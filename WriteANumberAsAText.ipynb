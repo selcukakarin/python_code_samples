{
 "cells": [
  {
   "cell_type": "code",
   "execution_count": 1,
   "metadata": {},
   "outputs": [
    {
     "name": "stdout",
     "output_type": "stream",
     "text": [
      "iki basamaklı sayı gir22\n",
      "Yirmi  İki\n"
     ]
    }
   ],
   "source": [
    "def yaziIle(sayi):\n",
    "    sozlukBirlik={1:\" Bir\",2:\" İki\",3:\" Üç\",4:\" Dört\",5:\" Beş\",6:\" Altı\",7:\" Yedi\",8:\" Sekiz\",9:\" Dokuz\"}\n",
    "    sozlukİkilik={1:\"On\",2:\"Yirmi\",3:\"Otuz\",4:\"Kırk\",5:\"Elli\",6:\"Altmış\",7:\"Yetmiş\",8:\"Seksen\",9:\"Doksan\"}\n",
    "    liste=[]\n",
    "    control=0\n",
    "    gecici=sayi\n",
    "\n",
    "    while gecici>0:\n",
    "        liste.append(gecici%10)\n",
    "        gecici//=10\n",
    "        control+=1\n",
    "        if(control==2):\n",
    "            break\n",
    "    if(control==2):\n",
    "        print(sozlukİkilik[liste[1]],sozlukBirlik[liste[0]])\n",
    "    else:\n",
    "        print(\"iki basamaklı sayı giriniz\")\n",
    "\n",
    "x=int(input(\"iki basamaklı sayı gir\"))\n",
    "yaziIle(x)"
   ]
  },
  {
   "cell_type": "code",
   "execution_count": null,
   "metadata": {},
   "outputs": [],
   "source": []
  }
 ],
 "metadata": {
  "kernelspec": {
   "display_name": "Python 3",
   "language": "python",
   "name": "python3"
  },
  "language_info": {
   "codemirror_mode": {
    "name": "ipython",
    "version": 3
   },
   "file_extension": ".py",
   "mimetype": "text/x-python",
   "name": "python",
   "nbconvert_exporter": "python",
   "pygments_lexer": "ipython3",
   "version": "3.7.4"
  }
 },
 "nbformat": 4,
 "nbformat_minor": 2
}
