{
 "cells": [
  {
   "cell_type": "code",
   "execution_count": 1,
   "metadata": {},
   "outputs": [],
   "source": [
    "def ekstra(fonk):\n",
    "    def wrapper(sayilar):\n",
    "        ciftlerToplami=0\n",
    "        ciftSayilar=0\n",
    "        teklerToplami=0\n",
    "        tekSayilar=0\n",
    "        for sayi in sayilar:\n",
    "            if (sayi % 2 == 0):\n",
    "                ciftlerToplami+=sayi\n",
    "                ciftSayilar+=1\n",
    "            else:\n",
    "                teklerToplami+=sayi\n",
    "                tekSayilar+=1\n",
    "        print(\"Teklerin ortalaması : \",teklerToplami/tekSayilar)\n",
    "        print(\"Çiftlerin ortalaması : \",ciftlerToplami/ciftSayilar)\n",
    "        fonk(sayilar)\n",
    "    return wrapper"
   ]
  },
  {
   "cell_type": "code",
   "execution_count": 2,
   "metadata": {},
   "outputs": [],
   "source": [
    "@ekstra\n",
    "def ortalamaBul(sayilar):\n",
    "    toplam=0\n",
    "    for sayi in sayilar:\n",
    "        toplam+=sayi\n",
    "    print(\"Genel ortalama : \",toplam/len(sayilar))"
   ]
  },
  {
   "cell_type": "code",
   "execution_count": 3,
   "metadata": {},
   "outputs": [
    {
     "name": "stdout",
     "output_type": "stream",
     "text": [
      "Teklerin ortalaması :  8.333333333333334\n",
      "Çiftlerin ortalaması :  131.6\n",
      "Genel ortalama :  85.375\n"
     ]
    }
   ],
   "source": [
    "ortalamaBul([1,2,3,4,52,34,566,21])"
   ]
  },
  {
   "cell_type": "code",
   "execution_count": null,
   "metadata": {},
   "outputs": [],
   "source": []
  }
 ],
 "metadata": {
  "kernelspec": {
   "display_name": "Python 3",
   "language": "python",
   "name": "python3"
  },
  "language_info": {
   "codemirror_mode": {
    "name": "ipython",
    "version": 3
   },
   "file_extension": ".py",
   "mimetype": "text/x-python",
   "name": "python",
   "nbconvert_exporter": "python",
   "pygments_lexer": "ipython3",
   "version": "3.7.4"
  }
 },
 "nbformat": 4,
 "nbformat_minor": 2
}
