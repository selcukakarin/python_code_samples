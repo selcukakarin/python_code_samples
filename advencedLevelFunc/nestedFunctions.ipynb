{
 "cells": [
  {
   "cell_type": "code",
   "execution_count": 1,
   "metadata": {},
   "outputs": [
    {
     "name": "stdout",
     "output_type": "stream",
     "text": [
      "merhaba selçuk\n",
      "<function selamla at 0x00000293EC2B9798>\n",
      "<function selamla at 0x00000293EC2B9798>\n",
      "merhaba Alican\n"
     ]
    }
   ],
   "source": [
    "def selamla(isim):\n",
    "    print(\"merhaba\",isim)\n",
    "selamla(\"selçuk\")\n",
    "\n",
    "merhaba=selamla         #fonksiyonların değişken olarak tanımlanması\n",
    "\n",
    "print(selamla)\n",
    "print(merhaba)\n",
    "\n",
    "merhaba(\"Alican\")"
   ]
  },
  {
   "cell_type": "code",
   "execution_count": 4,
   "metadata": {},
   "outputs": [
    {
     "ename": "NameError",
     "evalue": "name 'selamla' is not defined",
     "output_type": "error",
     "traceback": [
      "\u001b[1;31m---------------------------------------------------------------------------\u001b[0m",
      "\u001b[1;31mNameError\u001b[0m                                 Traceback (most recent call last)",
      "\u001b[1;32m<ipython-input-4-0f569ee30a0d>\u001b[0m in \u001b[0;36m<module>\u001b[1;34m\u001b[0m\n\u001b[1;32m----> 1\u001b[1;33m \u001b[1;32mdel\u001b[0m \u001b[0mselamla\u001b[0m\u001b[1;33m\u001b[0m\u001b[1;33m\u001b[0m\u001b[0m\n\u001b[0m\u001b[0;32m      2\u001b[0m \u001b[1;33m\u001b[0m\u001b[0m\n\u001b[0;32m      3\u001b[0m \u001b[0mprint\u001b[0m\u001b[1;33m(\u001b[0m\u001b[0mmerhaba\u001b[0m\u001b[1;33m)\u001b[0m\u001b[1;33m\u001b[0m\u001b[1;33m\u001b[0m\u001b[0m\n",
      "\u001b[1;31mNameError\u001b[0m: name 'selamla' is not defined"
     ]
    }
   ],
   "source": [
    "del selamla\n",
    "\n",
    "print(merhaba)"
   ]
  },
  {
   "cell_type": "code",
   "execution_count": 5,
   "metadata": {},
   "outputs": [
    {
     "ename": "NameError",
     "evalue": "name 'selamla' is not defined",
     "output_type": "error",
     "traceback": [
      "\u001b[1;31m---------------------------------------------------------------------------\u001b[0m",
      "\u001b[1;31mNameError\u001b[0m                                 Traceback (most recent call last)",
      "\u001b[1;32m<ipython-input-5-ee335f5bb236>\u001b[0m in \u001b[0;36m<module>\u001b[1;34m\u001b[0m\n\u001b[1;32m----> 1\u001b[1;33m \u001b[0mprint\u001b[0m\u001b[1;33m(\u001b[0m\u001b[0mselamla\u001b[0m\u001b[1;33m)\u001b[0m\u001b[1;33m\u001b[0m\u001b[1;33m\u001b[0m\u001b[0m\n\u001b[0m",
      "\u001b[1;31mNameError\u001b[0m: name 'selamla' is not defined"
     ]
    }
   ],
   "source": [
    "print(selamla)"
   ]
  },
  {
   "cell_type": "code",
   "execution_count": 6,
   "metadata": {},
   "outputs": [
    {
     "name": "stdout",
     "output_type": "stream",
     "text": [
      "küçük fonksiyondan herkese selamlar\n",
      "Büyük fonksiyondan herkese merhaba\n"
     ]
    }
   ],
   "source": [
    "def fonksiyon():\n",
    "    def fonksiyon2():\n",
    "        print(\"küçük fonksiyondan herkese selamlar\")\n",
    "    fonksiyon2()\n",
    "    print(\"Büyük fonksiyondan herkese merhaba\")\n",
    "fonksiyon()"
   ]
  },
  {
   "cell_type": "code",
   "execution_count": 8,
   "metadata": {},
   "outputs": [
    {
     "name": "stdout",
     "output_type": "stream",
     "text": [
      "28\n"
     ]
    }
   ],
   "source": [
    "def fonksiyon(*args):\n",
    "    def toplama(args):\n",
    "        toplam=0\n",
    "        for i in args:\n",
    "            toplam+=i\n",
    "        return toplam\n",
    "    print(toplama(args))\n",
    "fonksiyon(1,2,3,4,5,6,7)"
   ]
  },
  {
   "cell_type": "code",
   "execution_count": 9,
   "metadata": {},
   "outputs": [],
   "source": [
    "def anaFonksiyon(islemAdi):\n",
    "    def toplama(*args):\n",
    "        toplam=0\n",
    "        for i in args:\n",
    "            toplam+=i\n",
    "        return toplam\n",
    "    def carpim(*args):\n",
    "        carpim=1\n",
    "        for i in args:\n",
    "            carpim*=i\n",
    "        return carpim\n",
    "    if islemAdi==\"toplama\":     #fonksiyon içinden return ile fonksiyon gönderdik\n",
    "        return toplama\n",
    "    else:\n",
    "        return carpim"
   ]
  },
  {
   "cell_type": "code",
   "execution_count": 10,
   "metadata": {},
   "outputs": [
    {
     "name": "stdout",
     "output_type": "stream",
     "text": [
      "21\n"
     ]
    }
   ],
   "source": [
    "fonk=anaFonksiyon(\"toplama\")\n",
    "print(fonk(1,2,3,4,5,6))"
   ]
  },
  {
   "cell_type": "code",
   "execution_count": 11,
   "metadata": {},
   "outputs": [
    {
     "name": "stdout",
     "output_type": "stream",
     "text": [
      "120\n"
     ]
    }
   ],
   "source": [
    "fonk2=anaFonksiyon(\"carpim\")\n",
    "print(fonk2(1,2,3,4,5))"
   ]
  },
  {
   "cell_type": "code",
   "execution_count": 15,
   "metadata": {},
   "outputs": [
    {
     "name": "stdout",
     "output_type": "stream",
     "text": [
      "7\n",
      "-1\n",
      "12\n",
      "0.75\n"
     ]
    }
   ],
   "source": [
    "## Bir fonksiyona argüman olarak fonksiyon gönderme\n",
    "def toplama(a,b):\n",
    "    return a+b\n",
    "def cikarma(a,b):\n",
    "    return a-b\n",
    "def carpma(a,b):\n",
    "    return a*b\n",
    "def bolme(a,b):\n",
    "    return a/b\n",
    "\n",
    "def anaFoksiyon(func1,func2,func3,func4,islemAdi):\n",
    "    if islemAdi==\"toplama\":\n",
    "        print(func1(3,4))\n",
    "    elif islemAdi==\"çıkarma\":\n",
    "        print(func2(3,4))\n",
    "    elif islemAdi==\"çarpma\":\n",
    "        print(func3(3,4))\n",
    "    elif islemAdi==\"bölme\":\n",
    "        print(func4(3,4))\n",
    "    else:\n",
    "        print(\"Geçersiz işlem\")\n",
    "anaFoksiyon(toplama,cikarma,carpma,bolme,\"toplama\")    \n",
    "anaFoksiyon(toplama,cikarma,carpma,bolme,\"çıkarma\")    \n",
    "anaFoksiyon(toplama,cikarma,carpma,bolme,\"çarpma\")    \n",
    "anaFoksiyon(toplama,cikarma,carpma,bolme,\"bölme\")    \n"
   ]
  },
  {
   "cell_type": "code",
   "execution_count": null,
   "metadata": {},
   "outputs": [],
   "source": []
  }
 ],
 "metadata": {
  "kernelspec": {
   "display_name": "Python 3",
   "language": "python",
   "name": "python3"
  },
  "language_info": {
   "codemirror_mode": {
    "name": "ipython",
    "version": 3
   },
   "file_extension": ".py",
   "mimetype": "text/x-python",
   "name": "python",
   "nbconvert_exporter": "python",
   "pygments_lexer": "ipython3",
   "version": "3.7.4"
  }
 },
 "nbformat": 4,
 "nbformat_minor": 2
}
