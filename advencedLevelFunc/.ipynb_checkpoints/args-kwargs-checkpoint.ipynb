{
 "cells": [
  {
   "cell_type": "code",
   "execution_count": 1,
   "metadata": {},
   "outputs": [
    {
     "name": "stdout",
     "output_type": "stream",
     "text": [
      "1\n",
      "2\n",
      "3\n",
      "None\n",
      "1\n",
      "2\n",
      "3\n",
      "4\n",
      "5\n",
      "6\n",
      "None\n"
     ]
    }
   ],
   "source": [
    "def fonksiyon(*args):  # *arg ile gelen parametreler demetlere (tuple) dönüşür\n",
    "    for i in args:\n",
    "        print(i)\n",
    "print(fonksiyon(1,2,3))\n",
    "print(fonksiyon(1,2,3,4,5,6))"
   ]
  },
  {
   "cell_type": "code",
   "execution_count": 2,
   "metadata": {},
   "outputs": [
    {
     "name": "stdout",
     "output_type": "stream",
     "text": [
      "İsim :  Selçuk\n",
      "------------\n",
      "1\n",
      "2\n",
      "3\n",
      "4\n",
      "5\n"
     ]
    }
   ],
   "source": [
    "def fonksiyon2(isim,*args):\n",
    "        print(\"İsim : \",isim)\n",
    "        print(\"------------\")\n",
    "        for i in args:\n",
    "                print(i)\n",
    "fonksiyon2(\"Selçuk\",1,2,3,4,5)"
   ]
  },
  {
   "cell_type": "code",
   "execution_count": 3,
   "metadata": {},
   "outputs": [
    {
     "name": "stdout",
     "output_type": "stream",
     "text": [
      "{'isim': 'Selçuk', 'soyisim': 'Akarın', 'numara': 11}\n"
     ]
    }
   ],
   "source": [
    "def fonksiyon3(**kwargs):     #kwargs gönderilen değerleri sözlük yapısı şekline çevirir\n",
    "        print(kwargs)\n",
    "fonksiyon3(isim=\"Selçuk\",soyisim=\"Akarın\",numara=11)"
   ]
  },
  {
   "cell_type": "code",
   "execution_count": 4,
   "metadata": {},
   "outputs": [
    {
     "name": "stdout",
     "output_type": "stream",
     "text": [
      "Argüman ismi:  isim  Argüman değeri:  Selçuk\n",
      "Argüman ismi:  soyisim  Argüman değeri:  Akarın\n",
      "Argüman ismi:  numara  Argüman değeri:  11\n"
     ]
    }
   ],
   "source": [
    "def fonksiyon4(**kwargs):               #kwargs gönderilen değerleri sözlük yapısı şekline çevirir\n",
    "        for i,j in kwargs.items():\n",
    "                print(\"Argüman ismi: \",i,\" Argüman değeri: \",j)\n",
    "fonksiyon4(isim=\"Selçuk\",soyisim=\"Akarın\",numara=11)"
   ]
  },
  {
   "cell_type": "code",
   "execution_count": 5,
   "metadata": {},
   "outputs": [
    {
     "name": "stdout",
     "output_type": "stream",
     "text": [
      "1\n",
      "2\n",
      "3\n",
      "4\n",
      "5\n",
      "6\n",
      "-----------\n",
      "isim Selçuk\n",
      "soyisim Akarın\n",
      "numara 11\n"
     ]
    }
   ],
   "source": [
    "def fonksiyon5(*args,**kwargs):\n",
    "        for i in args:\n",
    "                print(i)\n",
    "        print(\"-----------\")\n",
    "        for i,j in kwargs.items():\n",
    "                print(i,j)\n",
    "fonksiyon5(1,2,3,4,5,6,isim=\"Selçuk\",soyisim=\"Akarın\",numara=11)"
   ]
  },
  {
   "cell_type": "code",
   "execution_count": null,
   "metadata": {},
   "outputs": [],
   "source": []
  }
 ],
 "metadata": {
  "kernelspec": {
   "display_name": "Python 3",
   "language": "python",
   "name": "python3"
  },
  "language_info": {
   "codemirror_mode": {
    "name": "ipython",
    "version": 3
   },
   "file_extension": ".py",
   "mimetype": "text/x-python",
   "name": "python",
   "nbconvert_exporter": "python",
   "pygments_lexer": "ipython3",
   "version": "3.7.4"
  }
 },
 "nbformat": 4,
 "nbformat_minor": 2
}
