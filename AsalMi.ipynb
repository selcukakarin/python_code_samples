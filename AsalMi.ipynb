{
 "cells": [
  {
   "cell_type": "code",
   "execution_count": null,
   "metadata": {},
   "outputs": [
    {
     "name": "stdout",
     "output_type": "stream",
     "text": [
      "Sayı : 43\n",
      "43  asal sayıdır\n"
     ]
    }
   ],
   "source": [
    "def asalMi(sayi):\n",
    "    if(sayi==1):\n",
    "        return False\n",
    "    elif(sayi==2):\n",
    "        return True\n",
    "    else:\n",
    "        for i in range(2,sayi):\n",
    "            if(sayi%i==0):\n",
    "                return False\n",
    "        return  True\n",
    "\n",
    "while True:\n",
    "    sayi =input(\"Sayı : \")\n",
    "    if(sayi==\"q\"):\n",
    "        break\n",
    "    else:\n",
    "        sayi=int(sayi)\n",
    "        if(asalMi(sayi)):\n",
    "            print(sayi,\" asal sayıdır\")\n",
    "        else:\n",
    "            print(sayi,\" asal değil\")"
   ]
  },
  {
   "cell_type": "code",
   "execution_count": null,
   "metadata": {},
   "outputs": [],
   "source": []
  }
 ],
 "metadata": {
  "kernelspec": {
   "display_name": "Python 3",
   "language": "python",
   "name": "python3"
  },
  "language_info": {
   "codemirror_mode": {
    "name": "ipython",
    "version": 3
   },
   "file_extension": ".py",
   "mimetype": "text/x-python",
   "name": "python",
   "nbconvert_exporter": "python",
   "pygments_lexer": "ipython3",
   "version": "3.7.4"
  }
 },
 "nbformat": 4,
 "nbformat_minor": 2
}
