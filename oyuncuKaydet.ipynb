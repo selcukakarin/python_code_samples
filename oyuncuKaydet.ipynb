{
 "cells": [
  {
   "cell_type": "code",
   "execution_count": 1,
   "metadata": {},
   "outputs": [
    {
     "name": "stdout",
     "output_type": "stream",
     "text": [
      "Oyuncu kaydetme programı\n",
      "Oyuncunu Adı : selçuk\n",
      "Oyuncunun Soyadı : akarın\n",
      "Oyuncunun Takımı : beşiktaş\n",
      "Bilgiler Kaydediliyor\n",
      "Oyuncunun Adı: selçuk\n",
      "Oyuncunun Soyadı: akarın\n",
      "Oyuncunun Takımı: beşiktaş\n",
      "Bilgiler kaydedildi...\n"
     ]
    }
   ],
   "source": [
    "print(\"Oyuncu kaydetme programı\")   \n",
    "\n",
    "ad=input(\"Oyuncunu Adı : \")\n",
    "soyad=input(\"Oyuncunun Soyadı : \")\n",
    "takim=input(\"Oyuncunun Takımı : \")\n",
    "\n",
    "bilgiler=[ad,soyad,takim]\n",
    "\n",
    "print(\"Bilgiler Kaydediliyor\")\n",
    "\n",
    "print(\"Oyuncunun Adı: {}\\nOyuncunun Soyadı: {}\\nOyuncunun Takımı: {}\".format(bilgiler[0],bilgiler[1],bilgiler[2]))\n",
    "\n",
    "print(\"Bilgiler kaydedildi...\")"
   ]
  },
  {
   "cell_type": "code",
   "execution_count": null,
   "metadata": {},
   "outputs": [],
   "source": []
  }
 ],
 "metadata": {
  "kernelspec": {
   "display_name": "Python 3",
   "language": "python",
   "name": "python3"
  },
  "language_info": {
   "codemirror_mode": {
    "name": "ipython",
    "version": 3
   },
   "file_extension": ".py",
   "mimetype": "text/x-python",
   "name": "python",
   "nbconvert_exporter": "python",
   "pygments_lexer": "ipython3",
   "version": "3.7.4"
  }
 },
 "nbformat": 4,
 "nbformat_minor": 2
}
