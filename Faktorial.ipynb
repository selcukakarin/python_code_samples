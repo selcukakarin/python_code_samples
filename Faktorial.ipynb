{
 "cells": [
  {
   "cell_type": "code",
   "execution_count": 1,
   "metadata": {},
   "outputs": [
    {
     "name": "stdout",
     "output_type": "stream",
     "text": [
      "\n",
      "**************************************\n",
      "Faktoriyel bulma programına hoşgeldiniz\n",
      "\n",
      "Çıkmak için q'ya basın\n",
      "**************************************\n",
      "\n",
      "Sayı : 7\n",
      "Faktöriyel :  5040\n",
      "Sayı : 8\n",
      "Faktöriyel :  40320\n",
      "Sayı : 6\n",
      "Faktöriyel :  720\n",
      "Sayı : 5\n",
      "Faktöriyel :  120\n",
      "Sayı : q\n",
      "program sonlandırılıyor\n"
     ]
    }
   ],
   "source": [
    "print(\"\"\"\n",
    "**************************************\n",
    "Faktoriyel bulma programına hoşgeldiniz\n",
    "\n",
    "Çıkmak için q'ya basın\n",
    "**************************************\n",
    "\"\"\")\n",
    "\n",
    "while True:\n",
    "    sayi=input(\"Sayı : \")\n",
    "    if(sayi==\"q\"):\n",
    "        print(\"program sonlandırılıyor\")\n",
    "        break\n",
    "    else:\n",
    "        sayi=int(sayi)\n",
    "        faktoriyel=1\n",
    "        for i in range(2,sayi+1):\n",
    "            faktoriyel*=i\n",
    "        print(\"Faktöriyel : \",faktoriyel)"
   ]
  },
  {
   "cell_type": "code",
   "execution_count": null,
   "metadata": {},
   "outputs": [],
   "source": []
  }
 ],
 "metadata": {
  "kernelspec": {
   "display_name": "Python 3",
   "language": "python",
   "name": "python3"
  },
  "language_info": {
   "codemirror_mode": {
    "name": "ipython",
    "version": 3
   },
   "file_extension": ".py",
   "mimetype": "text/x-python",
   "name": "python",
   "nbconvert_exporter": "python",
   "pygments_lexer": "ipython3",
   "version": "3.7.4"
  }
 },
 "nbformat": 4,
 "nbformat_minor": 2
}
