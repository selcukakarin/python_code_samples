{
 "cells": [
  {
   "cell_type": "code",
   "execution_count": 2,
   "metadata": {},
   "outputs": [
    {
     "name": "stdout",
     "output_type": "stream",
     "text": [
      "çıkış için q'ya basın\n",
      "sayı gir : 1\n",
      "sayı gir : 2\n",
      "sayı gir : 3\n",
      "sayı gir : q\n",
      "toplam 6\n"
     ]
    }
   ],
   "source": [
    "toplam=0\n",
    "print(\"çıkış için q'ya basın\")\n",
    "while True:\n",
    "    sayi=input(\"sayı gir : \")\n",
    "    if(sayi==\"q\"):\n",
    "       break\n",
    "    toplam+=int(sayi)\n",
    "print(\"toplam {}\".format(toplam))"
   ]
  },
  {
   "cell_type": "code",
   "execution_count": null,
   "metadata": {},
   "outputs": [],
   "source": []
  }
 ],
 "metadata": {
  "kernelspec": {
   "display_name": "Python 3",
   "language": "python",
   "name": "python3"
  },
  "language_info": {
   "codemirror_mode": {
    "name": "ipython",
    "version": 3
   },
   "file_extension": ".py",
   "mimetype": "text/x-python",
   "name": "python",
   "nbconvert_exporter": "python",
   "pygments_lexer": "ipython3",
   "version": "3.7.4"
  }
 },
 "nbformat": 4,
 "nbformat_minor": 2
}
