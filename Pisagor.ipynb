{
 "cells": [
  {
   "cell_type": "code",
   "execution_count": 1,
   "metadata": {},
   "outputs": [
    {
     "name": "stdout",
     "output_type": "stream",
     "text": [
      "3 4 5 üçgeni\n",
      "5 12 13 üçgeni\n",
      "6 8 10 üçgeni\n",
      "7 24 25 üçgeni\n",
      "8 15 17 üçgeni\n",
      "9 12 15 üçgeni\n",
      "9 40 41 üçgeni\n",
      "10 24 26 üçgeni\n",
      "11 60 61 üçgeni\n",
      "12 16 20 üçgeni\n",
      "12 35 37 üçgeni\n",
      "13 84 85 üçgeni\n",
      "14 48 50 üçgeni\n",
      "15 20 25 üçgeni\n",
      "15 36 39 üçgeni\n",
      "16 30 34 üçgeni\n",
      "16 63 65 üçgeni\n",
      "18 24 30 üçgeni\n",
      "18 80 82 üçgeni\n",
      "20 21 29 üçgeni\n",
      "20 48 52 üçgeni\n",
      "21 28 35 üçgeni\n",
      "21 72 75 üçgeni\n",
      "24 32 40 üçgeni\n",
      "24 45 51 üçgeni\n",
      "24 70 74 üçgeni\n",
      "25 60 65 üçgeni\n",
      "27 36 45 üçgeni\n",
      "28 45 53 üçgeni\n",
      "28 96 100 üçgeni\n",
      "30 40 50 üçgeni\n",
      "30 72 78 üçgeni\n",
      "32 60 68 üçgeni\n",
      "33 44 55 üçgeni\n",
      "33 56 65 üçgeni\n",
      "35 84 91 üçgeni\n",
      "36 48 60 üçgeni\n",
      "36 77 85 üçgeni\n",
      "39 52 65 üçgeni\n",
      "39 80 89 üçgeni\n",
      "40 42 58 üçgeni\n",
      "40 75 85 üçgeni\n",
      "42 56 70 üçgeni\n",
      "45 60 75 üçgeni\n",
      "48 55 73 üçgeni\n",
      "48 64 80 üçgeni\n",
      "51 68 85 üçgeni\n",
      "54 72 90 üçgeni\n",
      "57 76 95 üçgeni\n",
      "60 63 87 üçgeni\n",
      "60 80 100 üçgeni\n",
      "65 72 97 üçgeni\n"
     ]
    }
   ],
   "source": [
    "def pisagorBul():\n",
    "    for i in range(1,101):\n",
    "        for j in range(i, 101):\n",
    "            for k in range(j, 101):\n",
    "                if(i**2+j**2==k**2):\n",
    "                    print(\"{} {} {} üçgeni\".format(i,j,k))\n",
    "                if (i ** 2 + k ** 2 == j ** 2):\n",
    "                    print(\"{} {} {} üçgeni\".format(i, k, j))\n",
    "                if (k ** 2 + j ** 2 == i ** 2):\n",
    "                    print(\"{} {} {} üçgeni\".format(k, j, i))\n",
    "\n",
    "pisagorBul()\n"
   ]
  },
  {
   "cell_type": "code",
   "execution_count": null,
   "metadata": {},
   "outputs": [],
   "source": []
  }
 ],
 "metadata": {
  "kernelspec": {
   "display_name": "Python 3",
   "language": "python",
   "name": "python3"
  },
  "language_info": {
   "codemirror_mode": {
    "name": "ipython",
    "version": 3
   },
   "file_extension": ".py",
   "mimetype": "text/x-python",
   "name": "python",
   "nbconvert_exporter": "python",
   "pygments_lexer": "ipython3",
   "version": "3.7.4"
  }
 },
 "nbformat": 4,
 "nbformat_minor": 2
}
