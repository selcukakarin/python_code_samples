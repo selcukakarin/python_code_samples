{
 "cells": [
  {
   "cell_type": "code",
   "execution_count": 1,
   "metadata": {},
   "outputs": [],
   "source": [
    "def ebob(sayi1,sayi2):\n",
    "    ebob=1;\n",
    "    if(sayi1==sayi2):\n",
    "        return sayi1\n",
    "    else:\n",
    "        if(sayi1>sayi2):\n",
    "            for i in range(1,sayi2+1):\n",
    "                if(sayi1%i==0 and sayi2%i==0):\n",
    "                    ebob=i\n",
    "        else:\n",
    "            for i in range(1, sayi1+1):\n",
    "                if (sayi1 % i == 0 and sayi2 % i == 0):\n",
    "                    ebob = i\n",
    "    return ebob"
   ]
  },
  {
   "cell_type": "code",
   "execution_count": 4,
   "metadata": {},
   "outputs": [
    {
     "name": "stdout",
     "output_type": "stream",
     "text": [
      "sayı gir 3\n",
      "sayı gir 6\n",
      "3\n"
     ]
    }
   ],
   "source": [
    "x=int(input(\"sayı gir \"))\n",
    "y=int(input(\"sayı gir \"))\n",
    "print(ebob(x,y))"
   ]
  },
  {
   "cell_type": "code",
   "execution_count": null,
   "metadata": {},
   "outputs": [],
   "source": []
  }
 ],
 "metadata": {
  "kernelspec": {
   "display_name": "Python 3",
   "language": "python",
   "name": "python3"
  },
  "language_info": {
   "codemirror_mode": {
    "name": "ipython",
    "version": 3
   },
   "file_extension": ".py",
   "mimetype": "text/x-python",
   "name": "python",
   "nbconvert_exporter": "python",
   "pygments_lexer": "ipython3",
   "version": "3.7.4"
  }
 },
 "nbformat": 4,
 "nbformat_minor": 2
}
