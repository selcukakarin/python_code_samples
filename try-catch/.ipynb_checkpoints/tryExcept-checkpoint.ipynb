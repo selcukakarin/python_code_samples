{
 "cells": [
  {
   "cell_type": "code",
   "execution_count": 1,
   "metadata": {},
   "outputs": [
    {
     "name": "stdout",
     "output_type": "stream",
     "text": [
      "Bir hata oluştu\n",
      "Bloklar sonlandı.\n"
     ]
    }
   ],
   "source": [
    "try:\n",
    "    a=int(\"asdasd123\")\n",
    "    print(\"program burada\")\n",
    "except :\n",
    "    print(\"Bir hata oluştu\")\n",
    "print(\"Bloklar sonlandı.\")"
   ]
  },
  {
   "cell_type": "code",
   "execution_count": 2,
   "metadata": {},
   "outputs": [
    {
     "name": "stdout",
     "output_type": "stream",
     "text": [
      "Bir valueError hatası oluştu\n",
      "Bloklar sonlandı.\n"
     ]
    }
   ],
   "source": [
    "try:\n",
    "    a=int(\"asdasd123\")\n",
    "    print(\"program burada\")\n",
    "except ValueError:\n",
    "    print(\"Bir valueError hatası oluştu\")\n",
    "print(\"Bloklar sonlandı.\")"
   ]
  },
  {
   "cell_type": "code",
   "execution_count": 4,
   "metadata": {},
   "outputs": [
    {
     "name": "stdout",
     "output_type": "stream",
     "text": [
      "Sayı 1 : 22\n",
      "Sayı 2 : 0\n",
      "0'a bölme hatası oldu\n"
     ]
    }
   ],
   "source": [
    "try:\n",
    "    a=int(input(\"Sayı 1 : \"))\n",
    "    b=int(input(\"Sayı 2 : \"))\n",
    "    print(a/b)\n",
    "except ValueError:\n",
    "    print(\"Lütfen string girmeyin\")\n",
    "except ZeroDivisionError:\n",
    "    print(\"0'a bölme hatası oldu\")"
   ]
  },
  {
   "cell_type": "code",
   "execution_count": 5,
   "metadata": {},
   "outputs": [
    {
     "name": "stdout",
     "output_type": "stream",
     "text": [
      "Sayı 1 : 22\n",
      "Sayı 2 : 0\n",
      "ValuError veya ZeroDivision\n"
     ]
    }
   ],
   "source": [
    "try:\n",
    "    a=int(input(\"Sayı 1 : \"))\n",
    "    b=int(input(\"Sayı 2 : \"))\n",
    "    print(a/b)\n",
    "except (ValueError,ZeroDivisionError):\n",
    "    print(\"ValuError veya ZeroDivision\")"
   ]
  },
  {
   "cell_type": "code",
   "execution_count": 6,
   "metadata": {},
   "outputs": [
    {
     "name": "stdout",
     "output_type": "stream",
     "text": [
      "Sayı 1 : 232\n",
      "Sayı 2 : sad\n",
      "Lütfen string girmeyin\n",
      "Finally çalıştı\n"
     ]
    }
   ],
   "source": [
    "try:\n",
    "    a=int(input(\"Sayı 1 : \"))\n",
    "    b=int(input(\"Sayı 2 : \"))\n",
    "    print(a/b)\n",
    "except ValueError:\n",
    "    print(\"Lütfen string girmeyin\")\n",
    "except ZeroDivisionError:\n",
    "    print(\"0'a bölme hatası oldu\")\n",
    "finally:\n",
    "    print(\"Finally çalıştı\")"
   ]
  },
  {
   "cell_type": "code",
   "execution_count": 7,
   "metadata": {},
   "outputs": [
    {
     "name": "stdout",
     "output_type": "stream",
     "text": [
      "kuçleS\n"
     ]
    }
   ],
   "source": [
    "def tersCevir(s):\n",
    "    if(type(s)!=str):\n",
    "        raise ValueError(\"Lütfen string giriniz. \")\n",
    "    else:\n",
    "        return s[::-1]\n",
    "print(tersCevir(\"Selçuk\"))\n"
   ]
  },
  {
   "cell_type": "code",
   "execution_count": 8,
   "metadata": {},
   "outputs": [
    {
     "name": "stdout",
     "output_type": "stream",
     "text": [
      "Foksiyon hata verdi.\n"
     ]
    }
   ],
   "source": [
    "try:\n",
    "    print(tersCevir(11))\n",
    "except ValueError:\n",
    "    print(\"Foksiyon hata verdi.\")"
   ]
  },
  {
   "cell_type": "code",
   "execution_count": null,
   "metadata": {},
   "outputs": [],
   "source": []
  }
 ],
 "metadata": {
  "kernelspec": {
   "display_name": "Python 3",
   "language": "python",
   "name": "python3"
  },
  "language_info": {
   "codemirror_mode": {
    "name": "ipython",
    "version": 3
   },
   "file_extension": ".py",
   "mimetype": "text/x-python",
   "name": "python",
   "nbconvert_exporter": "python",
   "pygments_lexer": "ipython3",
   "version": "3.7.4"
  }
 },
 "nbformat": 4,
 "nbformat_minor": 2
}
