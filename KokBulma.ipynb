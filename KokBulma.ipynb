{
 "cells": [
  {
   "cell_type": "code",
   "execution_count": 1,
   "metadata": {},
   "outputs": [
    {
     "name": "stdout",
     "output_type": "stream",
     "text": [
      "a (x²'nin katsayısı):1\n",
      "b(x'in katsayısı):2\n",
      "c(sabitin katsayısı):3\n",
      "Birinci kök : (-1-1.6583123951777j)\n",
      "İkinci kök: (-0.9999999999999999+1.6583123951777j)\n",
      "\n"
     ]
    }
   ],
   "source": [
    "a=int(input(\"a (x²'nin katsayısı):\"))\n",
    "b=int(input(\"b(x'in katsayısı):\"))\n",
    "c=int(input(\"c(sabitin katsayısı):\"))\n",
    "\n",
    "delta=a**2-4*a*c\n",
    "\n",
    "x1=(-b-delta**0.5)/(2*a)\n",
    "\n",
    "x2=(-b+delta**0.5)/(2*a)\n",
    "\n",
    "print(\"Birinci kök : {}\\nİkinci kök: {}\\n\".format(x1,x2))"
   ]
  },
  {
   "cell_type": "code",
   "execution_count": null,
   "metadata": {},
   "outputs": [],
   "source": []
  }
 ],
 "metadata": {
  "kernelspec": {
   "display_name": "Python 3",
   "language": "python",
   "name": "python3"
  },
  "language_info": {
   "codemirror_mode": {
    "name": "ipython",
    "version": 3
   },
   "file_extension": ".py",
   "mimetype": "text/x-python",
   "name": "python",
   "nbconvert_exporter": "python",
   "pygments_lexer": "ipython3",
   "version": "3.7.4"
  }
 },
 "nbformat": 4,
 "nbformat_minor": 2
}
