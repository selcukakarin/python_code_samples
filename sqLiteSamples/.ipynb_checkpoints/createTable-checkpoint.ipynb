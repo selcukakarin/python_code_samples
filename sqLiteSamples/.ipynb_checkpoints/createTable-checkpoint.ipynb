{
 "cells": [
  {
   "cell_type": "code",
   "execution_count": null,
   "metadata": {},
   "outputs": [],
   "source": [
    "import sqlite3\n",
    "\n",
    "con=sqlite3.connect(\"kutuphane.db\")     #var ise kutuphane.db ye baglan yoksa olustur\n",
    "cursor=con.cursor()\n",
    "def tabloOlustur():\n",
    "    cursor.execute(\"create table if not exists kitaplık(isim text,yazar text,yayinEvi text,sayfaSayisi int)\")\n",
    "    con.commit()        #sql çalıştır\n",
    "tabloOlustur()\n",
    "\n",
    "con.close()"
   ]
  },
  {
   "cell_type": "code",
   "execution_count": null,
   "metadata": {},
   "outputs": [],
   "source": []
  }
 ],
 "metadata": {
  "kernelspec": {
   "display_name": "Python 3",
   "language": "python",
   "name": "python3"
  }
 },
 "nbformat": 4,
 "nbformat_minor": 2
}
