{
 "cells": [
  {
   "cell_type": "code",
   "execution_count": null,
   "metadata": {},
   "outputs": [],
   "source": [
    "import sqlite3\n",
    "\n",
    "con=sqlite3.connect(\"kutuphane.db\")\n",
    "cursor=con.cursor()\n",
    "def veriEkle():\n",
    "    cursor.execute(\"insert into kitaplık values('Dönüşüm','Franz Kafka','Everest',76)\")\n",
    "    con.commit()\n",
    "def veriEkle2(isim,yazar,yayinEvi,sayfaSayisi):\n",
    "    cursor.execute(\"insert into kitaplık values(?,?,?,?)\",(isim,yazar,yayinEvi,sayfaSayisi))\n",
    "    con.commit()\n",
    "# veriEkle()\n",
    "isim=input(\"İsim: \")\n",
    "yazar=input(\"Yazar: \")\n",
    "yayinEvi=input(\"Yayınevi: \")\n",
    "sayfaSayisi=int(input(\"Sayfa Sayısı: \"))\n",
    "veriEkle2(isim,yazar,yayinEvi,sayfaSayisi)\n",
    "con.close()"
   ]
  },
  {
   "cell_type": "code",
   "execution_count": null,
   "metadata": {},
   "outputs": [],
   "source": []
  }
 ],
 "metadata": {
  "kernelspec": {
   "display_name": "Python 3",
   "language": "python",
   "name": "python3"
  }
 },
 "nbformat": 4,
 "nbformat_minor": 2
}
