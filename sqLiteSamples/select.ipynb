{
 "cells": [
  {
   "cell_type": "code",
   "execution_count": null,
   "metadata": {},
   "outputs": [],
   "source": [
    "import sqlite3\n",
    "\n",
    "con=sqlite3.connect(\"kutuphane.db\")\n",
    "cursor=con.cursor()\n",
    "\n",
    "def veriAl():\n",
    "    cursor.execute(\"Select * from kitaplık\")\n",
    "    liste=cursor.fetchall()     #dönen verimiz liste olarak gelmekte\n",
    "    print(\"Kitaplık tablosunun bilgileri\")\n",
    "    for i in liste:\n",
    "        print(i)\n",
    "\n",
    "def veriAl2():\n",
    "    cursor.execute(\"select isim,yazar from kitaplık\")\n",
    "    liste=cursor.fetchall()\n",
    "    print(\"Kitaplık tablosunun bilgileri\")\n",
    "    for i in liste:\n",
    "        print(i)\n",
    "\n",
    "def veriAl3(yayinEvi):\n",
    "    cursor.execute(\"select * from kitaplık where yayinEvi = ?\",(yayinEvi,))\n",
    "    liste=cursor.fetchall()\n",
    "    print(\"Kitaplık tablosunun bilgileri\")\n",
    "    for i in liste:\n",
    "        print(i)\n",
    "\n",
    "veriAl()\n",
    "veriAl2()\n",
    "veriAl3(\"Everest\")\n"
   ]
  },
  {
   "cell_type": "code",
   "execution_count": null,
   "metadata": {},
   "outputs": [],
   "source": []
  }
 ],
 "metadata": {
  "kernelspec": {
   "display_name": "Python 3",
   "language": "python",
   "name": "python3"
  }
 },
 "nbformat": 4,
 "nbformat_minor": 2
}
