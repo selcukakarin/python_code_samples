{
 "cells": [
  {
   "cell_type": "code",
   "execution_count": null,
   "metadata": {},
   "outputs": [],
   "source": [
    "import sqlite3\n",
    "\n",
    "con=sqlite3.connect(\"kutuphane.db\")\n",
    "cursor=con.cursor()\n",
    "\n",
    "def veriAl():\n",
    "    cursor.execute(\"Select * from kitaplık\")\n",
    "    liste=cursor.fetchall()     #dönen verimiz liste olarak gelmekte\n",
    "    print(\"Kitaplık tablosunun bilgileri\")\n",
    "    for i in liste:\n",
    "        print(i)\n",
    "\n",
    "def veriGuncelle(eskiYayinEvi,yeniYayinEvi):\n",
    "    cursor.execute(\"update kitaplık set yayinEvi = ? where yayinEvi = ?\",(yeniYayinEvi,eskiYayinEvi))\n",
    "    con.commit()\n",
    "\n",
    "def veriSil(yazar):\n",
    "    cursor.execute(\"delete from kitaplık where yazar=?\",(yazar,))\n",
    "    con.commit()\n",
    "\n",
    "veriGuncelle(\"Everest\",\"Metis\")\n",
    "veriSil(\"Erdil yaşaroğlu\")\n",
    "veriAl()\n",
    "con.close()"
   ]
  },
  {
   "cell_type": "code",
   "execution_count": null,
   "metadata": {},
   "outputs": [],
   "source": []
  }
 ],
 "metadata": {
  "kernelspec": {
   "display_name": "Python 3",
   "language": "python",
   "name": "python3"
  }
 },
 "nbformat": 4,
 "nbformat_minor": 2
}
