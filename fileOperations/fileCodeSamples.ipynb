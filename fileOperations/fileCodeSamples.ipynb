{
 "cells": [
  {
   "cell_type": "code",
   "execution_count": 7,
   "metadata": {},
   "outputs": [],
   "source": [
    "file=open(\"bilgiler.txt\",\"w\")\n",
    "file.close()"
   ]
  },
  {
   "cell_type": "code",
   "execution_count": 8,
   "metadata": {},
   "outputs": [],
   "source": [
    "file=open(\"bilgiler.txt\",\"w\",encoding=\"utf-8\")\n",
    "file.write(\"Selçuk akarın\")\n",
    "file.close()"
   ]
  },
  {
   "cell_type": "code",
   "execution_count": 9,
   "metadata": {},
   "outputs": [],
   "source": [
    "file=open(\"bilgiler.txt\",\"a\",encoding=\"utf-8\")\n",
    "file.write(\"Selçuk Akarın\")\n",
    "file.close()"
   ]
  },
  {
   "cell_type": "code",
   "execution_count": 10,
   "metadata": {},
   "outputs": [],
   "source": [
    "file=open(\"bilgiler.txt\",\"r\")\n",
    "file.close()"
   ]
  },
  {
   "cell_type": "code",
   "execution_count": 11,
   "metadata": {},
   "outputs": [
    {
     "name": "stdout",
     "output_type": "stream",
     "text": [
      "Dosya bulunamadı..\n"
     ]
    }
   ],
   "source": [
    "try:\n",
    "    file=open(\"bilgiler2.txt\",\"r\")\n",
    "except FileNotFoundError:\n",
    "    print(\"Dosya bulunamadı..\")\n"
   ]
  },
  {
   "cell_type": "code",
   "execution_count": 1,
   "metadata": {},
   "outputs": [
    {
     "name": "stdout",
     "output_type": "stream",
     "text": [
      "Mustafa Kemal Atatürk\n",
      "----SelçuBEŞİKTAŞlçuk AkarınSelçuk Akarın\n",
      "Selçuk Akarın\n",
      "BBBBBBBBB\n",
      "BEŞİKTAŞ\n",
      "AAAAAAAAAAAA\n",
      "AAAAAAAAAAAA\n",
      "AAAAAAAAAAAA\n",
      "AAAAAAAAAAAA\n",
      "Selçuk Akarın\n",
      "Selçuk Akarın\n",
      "Selçuk Akarın\n",
      "Selçuk Akarın\n",
      "Selçuk Akarın\n",
      "Selçuk Akarın\n",
      "Selçuk Akarın\n",
      "Selçuk Akarın\n",
      "Selçuk Akarın\n",
      "Selçuk Akarın\n",
      "Selçuk Akarın\n",
      "Selçuk Akarın\n",
      "Selçuk Akarın\n",
      "Selçuk Akarın\n",
      "Selçuk Akarın\n",
      "Selçuk Akarın\n",
      "Selçuk Akarın\n",
      "Selçuk Akarın\n",
      "Alican Akarın\n",
      "Mustafa Kemal Atatürk\n",
      "----SelçuBEŞİKTAŞlçuk AkarınSelçuk Akarın\n",
      "Selçuk Akarın\n",
      "BEŞİKTAŞ\n",
      "AAAAAAAAAAAA\n",
      "AAAAAAAAAAAA\n",
      "AAAAAAAAAAAA\n",
      "AAAAAAAAAAAA\n",
      "Selçuk Akarın\n",
      "Selçuk Akarın\n",
      "Selçuk Akarın\n",
      "Selçuk Akarın\n",
      "Selçuk Akarın\n",
      "Selçuk Akarın\n",
      "Selçuk Akarın\n",
      "Selçuk Akarın\n",
      "Selçuk Akarın\n",
      "Selçuk Akarın\n",
      "Selçuk Akarın\n",
      "Selçuk Akarın\n",
      "Selçuk Akarın\n",
      "Selçuk Akarın\n",
      "Selçuk Akarın\n",
      "Selçuk Akarın\n",
      "Selçuk Akarın\n",
      "Selçuk Akarın\n",
      "Alican Akarın\n"
     ]
    }
   ],
   "source": [
    "file=open(\"bilgiler.txt\",\"r\",encoding=\"utf-8\")\n",
    "for i in file:\n",
    "    print(i,end=\"\")\n",
    "file.close()"
   ]
  },
  {
   "cell_type": "code",
   "execution_count": 13,
   "metadata": {},
   "outputs": [
    {
     "name": "stdout",
     "output_type": "stream",
     "text": [
      "Dosyanın içeriği : Selçuk akarınSelçuk Akarın\n"
     ]
    }
   ],
   "source": [
    "file=open(\"bilgiler.txt\",\"r\",encoding=\"utf-8\")\n",
    "icerik=file.read()\n",
    "print(\"Dosyanın içeriği : {}\".format(icerik))\n"
   ]
  },
  {
   "cell_type": "code",
   "execution_count": 18,
   "metadata": {},
   "outputs": [
    {
     "name": "stdout",
     "output_type": "stream",
     "text": [
      "Selçuk akarınSelçuk Akarın\n",
      "\n"
     ]
    }
   ],
   "source": [
    "file=open(\"bilgiler.txt\",\"r\",encoding=\"utf-8\")\n",
    "print(file.readline())\n",
    "file.close()"
   ]
  },
  {
   "cell_type": "code",
   "execution_count": 19,
   "metadata": {},
   "outputs": [
    {
     "name": "stdout",
     "output_type": "stream",
     "text": [
      "['Selçuk akarınSelçuk Akarın\\n', 'sadsad\\n', 'sad']\n"
     ]
    }
   ],
   "source": [
    "file=open(\"bilgiler.txt\",\"r\",encoding=\"utf-8\")\n",
    "print(file.readlines())\n",
    "file.close()"
   ]
  },
  {
   "cell_type": "code",
   "execution_count": null,
   "metadata": {},
   "outputs": [],
   "source": []
  }
 ],
 "metadata": {
  "kernelspec": {
   "display_name": "Python 3",
   "language": "python",
   "name": "python3"
  },
  "language_info": {
   "codemirror_mode": {
    "name": "ipython",
    "version": 3
   },
   "file_extension": ".py",
   "mimetype": "text/x-python",
   "name": "python",
   "nbconvert_exporter": "python",
   "pygments_lexer": "ipython3",
   "version": "3.7.4"
  }
 },
 "nbformat": 4,
 "nbformat_minor": 2
}
