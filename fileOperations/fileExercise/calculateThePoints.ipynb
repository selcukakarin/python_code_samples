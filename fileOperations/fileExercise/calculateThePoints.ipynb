{
 "cells": [
  {
   "cell_type": "code",
   "execution_count": 4,
   "metadata": {},
   "outputs": [],
   "source": [
    "def calculateThePoints(fileLine):\n",
    "    fileLine=fileLine[:-1]\n",
    "    myList=fileLine.split(\",\")\n",
    "    name=myList[0]\n",
    "    point1=int(myList[1])\n",
    "    point2=int(myList[2])\n",
    "    point3=int(myList[3])\n",
    "    lastPoint=point1*(3/10)+point2*(3/10)+point3*(4/10)\n",
    "    param = True\n",
    "    if(lastPoint>=90):\n",
    "        grade=\"A+\"\n",
    "    elif(lastPoint>=85):\n",
    "        grade=\"A-\"\n",
    "    elif(lastPoint>=80):\n",
    "        grade=\"B+\"\n",
    "    elif(lastPoint>=75):\n",
    "        grade=\"B-\"\n",
    "    elif(lastPoint>=70):\n",
    "        grade=\"C+\"\n",
    "    elif(lastPoint>=60):\n",
    "        grade=\"C-\"\n",
    "    else:\n",
    "        grade=\"F-\"\n",
    "        param = False\n",
    "    \n",
    "    return [param,name+\" ------------> \"+grade+\"\\n\"]"
   ]
  },
  {
   "cell_type": "code",
   "execution_count": 5,
   "metadata": {},
   "outputs": [],
   "source": [
    "with open(\"dosya.txt\",\"r\",encoding=\"utf-8\")as file:\n",
    "    studentListP=[]\n",
    "    studentListN=[]\n",
    "    for i in file:\n",
    "        if(calculateThePoints(i)[0] == True):\n",
    "            studentListP.append(calculateThePoints(i)[1])\n",
    "        else:\n",
    "            studentListN.append(calculateThePoints(i)[1])\n",
    "    with open(\"studentListP.txt\",\"w\",encoding=\"utf-8\")as file2:\n",
    "        for i in studentListP:\n",
    "            file2.write(i)\n",
    "    with open(\"studentListN.txt\",\"w\",encoding=\"utf-8\")as file3:\n",
    "        for i in studentListN:\n",
    "            file3.write(i)"
   ]
  },
  {
   "cell_type": "code",
   "execution_count": null,
   "metadata": {},
   "outputs": [],
   "source": []
  }
 ],
 "metadata": {
  "kernelspec": {
   "display_name": "Python 3",
   "language": "python",
   "name": "python3"
  },
  "language_info": {
   "codemirror_mode": {
    "name": "ipython",
    "version": 3
   },
   "file_extension": ".py",
   "mimetype": "text/x-python",
   "name": "python",
   "nbconvert_exporter": "python",
   "pygments_lexer": "ipython3",
   "version": "3.7.4"
  }
 },
 "nbformat": 4,
 "nbformat_minor": 2
}
