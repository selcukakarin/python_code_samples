{
 "cells": [
  {
   "cell_type": "code",
   "execution_count": 1,
   "metadata": {},
   "outputs": [
    {
     "name": "stdout",
     "output_type": "stream",
     "text": [
      "Selçuk akarınSelçuk Akarın\n",
      "\n",
      "sadsad\n",
      "\n",
      "sad\n"
     ]
    }
   ],
   "source": [
    "with open(\"bilgiler.txt\",\"r\",encoding=\"utf-8\")as file:   ##safety usage\n",
    "    for i in file:\n",
    "        print(i)\n"
   ]
  },
  {
   "cell_type": "code",
   "execution_count": 3,
   "metadata": {},
   "outputs": [
    {
     "name": "stdout",
     "output_type": "stream",
     "text": [
      "0\n",
      "15\n"
     ]
    }
   ],
   "source": [
    "with open(\"bilgiler.txt\",\"r\",encoding=\"utf-8\")as file:\n",
    "    print(file.tell())    # imlecin bulunduğu index\n",
    "    file.seek(15)         # imlecin bulunacağı indexi belirler\n",
    "    print(file.tell())"
   ]
  },
  {
   "cell_type": "code",
   "execution_count": 4,
   "metadata": {},
   "outputs": [
    {
     "name": "stdout",
     "output_type": "stream",
     "text": [
      "uk akarınSel\n"
     ]
    }
   ],
   "source": [
    "with open(\"bilgiler.txt\",\"r\",encoding=\"utf-8\")as file:\n",
    "    file.seek(5)\n",
    "    icerik=file.read(12)\n",
    "    print(icerik)"
   ]
  },
  {
   "cell_type": "code",
   "execution_count": 5,
   "metadata": {},
   "outputs": [
    {
     "name": "stdout",
     "output_type": "stream",
     "text": [
      "0\n",
      "15\n",
      "Selçuk\n"
     ]
    }
   ],
   "source": [
    "with open(\"bilgiler.txt\",\"r\",encoding=\"utf-8\")as file:\n",
    "    print(file.tell())\n",
    "    file.seek(15)\n",
    "    print(file.tell())\n",
    "    file.seek(0)\n",
    "    icerik=file.read(6)\n",
    "    print(icerik)"
   ]
  },
  {
   "cell_type": "code",
   "execution_count": 6,
   "metadata": {},
   "outputs": [
    {
     "name": "stdout",
     "output_type": "stream",
     "text": [
      "Selçuk akDENEMEelçuk Akarın\n",
      "sadsad\n",
      "sad\n"
     ]
    }
   ],
   "source": [
    "with open(\"bilgiler.txt\",\"r+\",encoding=\"utf-8\")as file:   # r+ hem dosya okur hem yazar\n",
    "    file.seek(10)\n",
    "    file.write(\"DENEME\")\n",
    "    file.seek(0)\n",
    "    print(file.read())"
   ]
  },
  {
   "cell_type": "code",
   "execution_count": 7,
   "metadata": {},
   "outputs": [
    {
     "name": "stdout",
     "output_type": "stream",
     "text": [
      "Selçuk akDENEMEelçuk Akarın\n",
      "sadsad\n",
      "sadAbdülsamed Yıldırım\n",
      "\n"
     ]
    }
   ],
   "source": [
    "#Dosyanın sonuna string ekleme\n",
    "with open(\"bilgiler.txt\",\"a\",encoding=\"utf-8\")as file:\n",
    "    file.write(\"Abdülsamed Yıldırım\\n\")\n",
    "with open(\"bilgiler.txt\",\"r+\",encoding=\"utf-8\")as file:\n",
    "    print(file.read())"
   ]
  },
  {
   "cell_type": "code",
   "execution_count": 8,
   "metadata": {},
   "outputs": [
    {
     "name": "stdout",
     "output_type": "stream",
     "text": [
      "Furkan Sarıkaya\n",
      "Selçuk akDENEMEelçuk Akarın\n",
      "sadsad\n",
      "sadAbdülsamed Yıldırım\n",
      "\n"
     ]
    }
   ],
   "source": [
    "# Dosyanın başına string ekleme\n",
    "with open(\"bilgiler.txt\",\"r+\",encoding=\"utf-8\")as file:\n",
    "    icerik=file.read()\n",
    "    icerik=\"Furkan Sarıkaya\\n\"+icerik\n",
    "    file.seek(0)\n",
    "    file.write(icerik)\n",
    "    file.seek(0)\n",
    "    print(file.read())"
   ]
  },
  {
   "cell_type": "code",
   "execution_count": 1,
   "metadata": {},
   "outputs": [
    {
     "name": "stdout",
     "output_type": "stream",
     "text": [
      "['Mustafa Kemal Atatürk\\n', '----SelçuBEŞİKTAŞlçuk AkarınSelçuk Akarın\\n', 'Selçuk Akarın\\n', 'BEŞİKTAŞ\\n', 'AAAAAAAAAAAA\\n', 'AAAAAAAAAAAA\\n', 'AAAAAAAAAAAA\\n', 'AAAAAAAAAAAA\\n', 'Selçuk Akarın\\n', 'Selçuk Akarın\\n', 'Selçuk Akarın\\n', 'Selçuk Akarın\\n', 'Selçuk Akarın\\n', 'Selçuk Akarın\\n', 'Selçuk Akarın\\n', 'Selçuk Akarın\\n', 'Selçuk Akarın\\n', 'Selçuk Akarın\\n', 'Selçuk Akarın\\n', 'Selçuk Akarın\\n', 'Selçuk Akarın\\n', 'Selçuk Akarın\\n', 'Selçuk Akarın\\n', 'Selçuk Akarın\\n', 'Selçuk Akarın\\n', 'Selçuk Akarın\\n', 'Alican Akarın\\n']\n",
      "Mustafa Kemal Atatürk\n",
      "----SelçuBEŞİKTAŞlçuk AkarınSelçuk Akarın\n",
      "Selçuk Akarın\n",
      "BEŞİKTAŞ\n",
      "AAAAAAAAAAAA\n",
      "AAAAAAAAAAAA\n",
      "AAAAAAAAAAAA\n",
      "AAAAAAAAAAAA\n",
      "Selçuk Akarın\n",
      "Selçuk Akarın\n",
      "Selçuk Akarın\n",
      "Selçuk Akarın\n",
      "Selçuk Akarın\n",
      "Selçuk Akarın\n",
      "Selçuk Akarın\n",
      "Selçuk Akarın\n",
      "Selçuk Akarın\n",
      "Selçuk Akarın\n",
      "Selçuk Akarın\n",
      "Selçuk Akarın\n",
      "Selçuk Akarın\n",
      "Selçuk Akarın\n",
      "Selçuk Akarın\n",
      "Selçuk Akarın\n",
      "Selçuk Akarın\n",
      "Selçuk Akarın\n",
      "Alican Akarın\n",
      "Mustafa Kemal Atatürk\n",
      "----SelçuBEŞİKTAŞlçuk AkarınSelçuk Akarın\n",
      "Selçuk Akarın\n",
      "BEŞİKTAŞ\n",
      "AAAAAAAAAAAA\n",
      "AAAAAAAAAAAA\n",
      "AAAAAAAAAAAA\n",
      "AAAAAAAAAAAA\n",
      "Selçuk Akarın\n",
      "Selçuk Akarın\n",
      "Selçuk Akarın\n",
      "Selçuk Akarın\n",
      "Selçuk Akarın\n",
      "Selçuk Akarın\n",
      "Selçuk Akarın\n",
      "Selçuk Akarın\n",
      "Selçuk Akarın\n",
      "Selçuk Akarın\n",
      "Selçuk Akarın\n",
      "Selçuk Akarın\n",
      "Selçuk Akarın\n",
      "Selçuk Akarın\n",
      "Selçuk Akarın\n",
      "Selçuk Akarın\n",
      "Selçuk Akarın\n",
      "Selçuk Akarın\n",
      "Alican Akarın\n",
      "\n"
     ]
    }
   ],
   "source": [
    "with open(\"bilgiler.txt\",\"r+\",encoding=\"utf-8\") as file:\n",
    "    liste=file.readlines()\n",
    "    liste.insert(3,\"BEŞİKTAŞ\\n\")\n",
    "    print(liste)\n",
    "    file.seek(0)\n",
    "    for i in liste:\n",
    "        file.write(i)\n",
    "    file.writelines(liste)\n",
    "    file.seek(0)\n",
    "    print(file.read())"
   ]
  },
  {
   "cell_type": "code",
   "execution_count": null,
   "metadata": {},
   "outputs": [],
   "source": []
  }
 ],
 "metadata": {
  "kernelspec": {
   "display_name": "Python 3",
   "language": "python",
   "name": "python3"
  },
  "language_info": {
   "codemirror_mode": {
    "name": "ipython",
    "version": 3
   },
   "file_extension": ".py",
   "mimetype": "text/x-python",
   "name": "python",
   "nbconvert_exporter": "python",
   "pygments_lexer": "ipython3",
   "version": "3.7.4"
  }
 },
 "nbformat": 4,
 "nbformat_minor": 2
}
