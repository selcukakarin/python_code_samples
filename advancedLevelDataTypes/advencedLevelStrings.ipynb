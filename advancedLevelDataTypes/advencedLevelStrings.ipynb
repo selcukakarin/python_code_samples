{
 "cells": [
  {
   "cell_type": "code",
   "execution_count": 1,
   "metadata": {},
   "outputs": [
    {
     "name": "stdout",
     "output_type": "stream",
     "text": [
      "PYTHON\n",
      "python\n",
      "erebe emeç erkedeş\n",
      "Python-programlama-dili\n",
      "Selman\n",
      "True\n",
      "False\n",
      "True\n",
      "['Python', 'programlama', 'dili']\n",
      "['Python', 'C', 'C#', 'Java']\n",
      "Selçuk\n",
      "Selçuk              \n",
      "                Selçuk\n",
      "Selçuk              \n",
      "24/11/1994\n",
      "T.B.M.M\n",
      "3\n",
      "2\n",
      "3\n",
      "2\n",
      "0\n",
      "4\n",
      "-1\n"
     ]
    }
   ],
   "source": [
    "print(\"python\".upper())\n",
    "print(\"PYTHON\".lower())\n",
    "print(\"araba amaç arkadaş\".replace(\"a\",\"e\"))\n",
    "print(\"Python programlama dili\".replace(\" \",\"-\"))\n",
    "print(\"Selçuk\".replace(\"çuk\",\"man\"))\n",
    "print(\"Selçuk\".startswith(\"S\"))\n",
    "print(\"Selçuk\".endswith(\"u\"))\n",
    "print(\"Selçuk\".endswith(\"uk\"))\n",
    "liste=\"Python programlama dili\".split(\" \")\n",
    "print(liste)\n",
    "liste2=\"Python-C-C#-Java\".split(\"-\")\n",
    "print(liste2)\n",
    "print(\"                Selçuk              \".strip())\n",
    "print(\"                Selçuk              \".lstrip())\n",
    "print(\"                Selçuk              \".rstrip())\n",
    "print(\"aaaaaaaaaaaaSelçuk              \".strip(\"a\"))\n",
    "liste =[\"24\",\"11\",\"1994\"]\n",
    "print(\"/\".join(liste))\n",
    "liste=[\"T\",\"B\",\"M\",\"M\"]\n",
    "print(\".\".join(liste))\n",
    "print(\"Python programlama dili\".count(\"a\"))\n",
    "print(\"Python programlama dili\".count(\" \"))\n",
    "print(\"Python programlama dili\".count(\"a\",12)) # 12. indexten itibaren say\n",
    "print(\"Python programlama dili\".count(\"a\",13)) # 13. indexten itibaren say\n",
    "print(\"araba\".find(\"a\"))\n",
    "print(\"araba\".rfind(\"a\"))\n",
    "print(\"araba\".find(\"s\"))\n"
   ]
  },
  {
   "cell_type": "code",
   "execution_count": null,
   "metadata": {},
   "outputs": [],
   "source": []
  }
 ],
 "metadata": {
  "kernelspec": {
   "display_name": "Python 3",
   "language": "python",
   "name": "python3"
  },
  "language_info": {
   "codemirror_mode": {
    "name": "ipython",
    "version": 3
   },
   "file_extension": ".py",
   "mimetype": "text/x-python",
   "name": "python",
   "nbconvert_exporter": "python",
   "pygments_lexer": "ipython3",
   "version": "3.7.4"
  }
 },
 "nbformat": 4,
 "nbformat_minor": 2
}
