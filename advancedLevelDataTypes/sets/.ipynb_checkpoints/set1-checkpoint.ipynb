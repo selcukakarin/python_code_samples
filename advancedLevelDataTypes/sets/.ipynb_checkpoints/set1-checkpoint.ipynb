{
 "cells": [
  {
   "cell_type": "code",
   "execution_count": 2,
   "metadata": {},
   "outputs": [
    {
     "name": "stdout",
     "output_type": "stream",
     "text": [
      "<class 'set'>\n"
     ]
    }
   ],
   "source": [
    "x={1,2,3}\n",
    "print(type(x))"
   ]
  },
  {
   "cell_type": "code",
   "execution_count": 3,
   "metadata": {},
   "outputs": [
    {
     "name": "stdout",
     "output_type": "stream",
     "text": [
      "{1, 2, 3}\n"
     ]
    }
   ],
   "source": [
    "liste=[1,1,1,1,2,2,2,3,3,3,3]\n",
    "print(set(liste))"
   ]
  },
  {
   "cell_type": "code",
   "execution_count": 4,
   "metadata": {},
   "outputs": [
    {
     "name": "stdout",
     "output_type": "stream",
     "text": [
      "Ali\n",
      "Selçuk\n",
      "Mahmut\n",
      "Raşit\n",
      "-------\n",
      "Ali\n",
      "Selçuk\n",
      "Mahmut\n",
      "Raşit\n"
     ]
    }
   ],
   "source": [
    "x={\"Selçuk\",\"Ali\",\"Mahmut\",\"Raşit\",\"Selçuk\"}\n",
    "for i in x:\n",
    "    print(i)\n",
    "print(\"-------\")\n",
    "x.add(\"Selçuk\")\n",
    "for i in x:\n",
    "    print(i)"
   ]
  },
  {
   "cell_type": "code",
   "execution_count": 5,
   "metadata": {},
   "outputs": [
    {
     "name": "stdout",
     "output_type": "stream",
     "text": [
      "{4, 6}\n",
      "None\n",
      "{4, 6}\n"
     ]
    }
   ],
   "source": [
    "kume1={1,2,2,3,4,5,6}\n",
    "kume2={7,8,8,9,2,5,0,3,21,1}\n",
    "print(kume1.difference(kume2))\n",
    "print(kume1.difference_update(kume2))\n",
    "print(kume1)\n"
   ]
  },
  {
   "cell_type": "code",
   "execution_count": 6,
   "metadata": {},
   "outputs": [
    {
     "name": "stdout",
     "output_type": "stream",
     "text": [
      "{1, 3, 4, 5, 6}\n"
     ]
    }
   ],
   "source": [
    "kume1={1,2,2,3,4,5,6}\n",
    "kume2={7,8,8,9,2,5,0,3,21,1}\n",
    "kume1.discard(2)      #kümeden eleman çıkart\n",
    "print(kume1)\n"
   ]
  },
  {
   "cell_type": "code",
   "execution_count": 7,
   "metadata": {},
   "outputs": [
    {
     "name": "stdout",
     "output_type": "stream",
     "text": [
      "{1, 2, 3, 5}\n"
     ]
    }
   ],
   "source": [
    "kume1={1,2,2,3,4,5,6}\n",
    "kume2={7,8,8,9,2,5,0,3,21,1}\n",
    "print(kume1.intersection(kume2))   # intersection_update"
   ]
  },
  {
   "cell_type": "code",
   "execution_count": 8,
   "metadata": {},
   "outputs": [
    {
     "name": "stdout",
     "output_type": "stream",
     "text": [
      "False\n",
      "True\n"
     ]
    }
   ],
   "source": [
    "kume1={1,2,2,3,4,5,6}\n",
    "kume2={7,8,8,9,2,5,0,3,21,1}\n",
    "kume3={-1,-2,-3}\n",
    "print(kume1.isdisjoint(kume2))       #ayrık küme mi?\n",
    "print(kume1.isdisjoint(kume3))"
   ]
  },
  {
   "cell_type": "code",
   "execution_count": 9,
   "metadata": {},
   "outputs": [
    {
     "name": "stdout",
     "output_type": "stream",
     "text": [
      "False\n",
      "True\n",
      "True\n"
     ]
    }
   ],
   "source": [
    "x={1,2,3}\n",
    "y={1,2}\n",
    "z={1,2,3,4,5}\n",
    "\n",
    "print(x.issubset(y))        #alt kümesi mi?\n",
    "print(y.issubset(x))\n",
    "print(x.issubset(z))"
   ]
  },
  {
   "cell_type": "code",
   "execution_count": 11,
   "metadata": {},
   "outputs": [
    {
     "name": "stdout",
     "output_type": "stream",
     "text": [
      "{0, 1, 2, 3, 4, 5, 6, 7, 8, 9, 21}\n",
      "{0, 1, 2, 3, 4, 5, 6, 7, 8, 9, 21}\n"
     ]
    }
   ],
   "source": [
    "kume1={1,2,2,3,4,5,6}\n",
    "kume2={7,8,8,9,2,5,0,3,21,1}\n",
    "print(kume1.union(kume2))    # birleşim\n",
    "kume1.update(kume2)\n",
    "print(kume1)"
   ]
  },
  {
   "cell_type": "code",
   "execution_count": null,
   "metadata": {},
   "outputs": [],
   "source": []
  }
 ],
 "metadata": {
  "kernelspec": {
   "display_name": "Python 3",
   "language": "python",
   "name": "python3"
  },
  "language_info": {
   "codemirror_mode": {
    "name": "ipython",
    "version": 3
   },
   "file_extension": ".py",
   "mimetype": "text/x-python",
   "name": "python",
   "nbconvert_exporter": "python",
   "pygments_lexer": "ipython3",
   "version": "3.7.4"
  }
 },
 "nbformat": 4,
 "nbformat_minor": 2
}
