{
 "cells": [
  {
   "cell_type": "code",
   "execution_count": 1,
   "metadata": {},
   "outputs": [
    {
     "name": "stdout",
     "output_type": "stream",
     "text": [
      "[1, 2, 3, 4, 5, 6]\n"
     ]
    }
   ],
   "source": [
    "liste=[1,2,3,4,5]\n",
    "liste.append(6)\n",
    "print(liste)"
   ]
  },
  {
   "cell_type": "code",
   "execution_count": 2,
   "metadata": {},
   "outputs": [
    {
     "name": "stdout",
     "output_type": "stream",
     "text": [
      "[3, 5, 5, 8, 9, 10, 'Selçuk', 'Deneme', 1, 55]\n"
     ]
    }
   ],
   "source": [
    "liste1=[3,5,5,8,9,10]\n",
    "liste2=[\"Selçuk\",\"Deneme\",1,55]\n",
    "liste1.extend(liste2)       #extend bir listeyi diğer listeye ekler\n",
    "print(liste1)"
   ]
  },
  {
   "cell_type": "code",
   "execution_count": 5,
   "metadata": {},
   "outputs": [
    {
     "name": "stdout",
     "output_type": "stream",
     "text": [
      "[1, 2, 3, 'İstanbul', 4, 5]\n",
      "[1, 2, 3, 'İstanbul', 4]\n",
      "[1, 2, 3, 4]\n",
      "[1, 2, 4]\n"
     ]
    }
   ],
   "source": [
    "liste=[1,2,3,4,5]\n",
    "liste.insert(3,\"İstanbul\")\n",
    "print(liste)\n",
    "liste.pop()\n",
    "print(liste)\n",
    "liste.pop(3)\n",
    "print(liste)\n",
    "liste.remove(3)\n",
    "print(liste)"
   ]
  },
  {
   "cell_type": "code",
   "execution_count": 6,
   "metadata": {},
   "outputs": [
    {
     "name": "stdout",
     "output_type": "stream",
     "text": [
      "2\n",
      "5\n",
      "3\n",
      "[1, 2, 2, 3, 3, 3, 4, 4, 5, 5]\n",
      "[5, 5, 4, 4, 3, 3, 3, 2, 2, 1]\n"
     ]
    }
   ],
   "source": [
    "liste=[1,2,3,4,5,3,2,3,4,5]\n",
    "print(liste.index(3))\n",
    "print(liste.index(3,3))  # 3. indexten itibaren  3'ü ara\n",
    "print(liste.count(3))\n",
    "liste.sort()\n",
    "print(liste)\n",
    "liste.sort(reverse=True)\n",
    "print(liste)"
   ]
  },
  {
   "cell_type": "code",
   "execution_count": null,
   "metadata": {},
   "outputs": [],
   "source": []
  }
 ],
 "metadata": {
  "kernelspec": {
   "display_name": "Python 3",
   "language": "python",
   "name": "python3"
  },
  "language_info": {
   "codemirror_mode": {
    "name": "ipython",
    "version": 3
   },
   "file_extension": ".py",
   "mimetype": "text/x-python",
   "name": "python",
   "nbconvert_exporter": "python",
   "pygments_lexer": "ipython3",
   "version": "3.7.4"
  }
 },
 "nbformat": 4,
 "nbformat_minor": 2
}
