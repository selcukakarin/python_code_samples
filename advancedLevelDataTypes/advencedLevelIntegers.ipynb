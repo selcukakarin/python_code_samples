{
 "cells": [
  {
   "cell_type": "code",
   "execution_count": 1,
   "metadata": {},
   "outputs": [
    {
     "name": "stdout",
     "output_type": "stream",
     "text": [
      "0b1011\n",
      "0xc8\n",
      "5\n",
      "1.5\n",
      "5\n",
      "6\n",
      "3.223\n",
      "3.22\n",
      "156\n",
      "7\n",
      "-7\n",
      "9\n",
      "30\n",
      "30.5\n",
      "16\n",
      "16\n",
      "8.0\n"
     ]
    }
   ],
   "source": [
    "print(bin(11))\n",
    "print(hex(200))\n",
    "print(abs(-5))\n",
    "print(abs(-1.5))\n",
    "print(round(5.4))\n",
    "print(round(5.5))\n",
    "print(round(3.2229,3))\n",
    "print(round(3.2229,2))\n",
    "print(max(3,156))\n",
    "print(max(3,1,5,7,2))\n",
    "print(min(1,-7,23,5,7))\n",
    "print(max([1,2,3,5,6,7,9,2,-5]))\n",
    "print(sum([1,2,3,4,5,6,7,2]))\n",
    "print(sum((1,2,3.5,4,5,6,7,2)))\n",
    "print(pow(2,4))\n",
    "print(2**4)\n",
    "print(pow(64,0.5))\n"
   ]
  },
  {
   "cell_type": "code",
   "execution_count": null,
   "metadata": {},
   "outputs": [],
   "source": []
  }
 ],
 "metadata": {
  "kernelspec": {
   "display_name": "Python 3",
   "language": "python",
   "name": "python3"
  },
  "language_info": {
   "codemirror_mode": {
    "name": "ipython",
    "version": 3
   },
   "file_extension": ".py",
   "mimetype": "text/x-python",
   "name": "python",
   "nbconvert_exporter": "python",
   "pygments_lexer": "ipython3",
   "version": "3.7.4"
  }
 },
 "nbformat": 4,
 "nbformat_minor": 2
}
