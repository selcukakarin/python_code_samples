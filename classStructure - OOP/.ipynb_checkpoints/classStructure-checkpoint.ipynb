{
 "cells": [
  {
   "cell_type": "code",
   "execution_count": 1,
   "metadata": {},
   "outputs": [],
   "source": [
    "#  Yeni bir Araba veri tipi oluşturuyoruz.\n",
    "class Araba():\n",
    "    model =  \"Renault Megane\"\n",
    "    renk = \"Gümüş\"            # Sınıfımızın özellikleri (attributes)\n",
    "    beygir_gücü = 110\n",
    "    silindir = 4"
   ]
  },
  {
   "cell_type": "code",
   "execution_count": 2,
   "metadata": {},
   "outputs": [
    {
     "name": "stdout",
     "output_type": "stream",
     "text": [
      "<__main__.Araba object at 0x0000020F8C6418C8>\n",
      "<class '__main__.Araba'>\n",
      "Renault Megane\n",
      "Gümüş\n",
      "110\n",
      "4\n"
     ]
    }
   ],
   "source": [
    "araba1 =  Araba() # Araba veri tipinden bir \"araba1\" isminde bir obje oluşturduk.\n",
    "print(araba1) # Objemizin veri tipi Araba\n",
    "print(type(araba1))\n",
    "print(araba1.model)\n",
    "print(araba1.renk)\n",
    "print(araba1.beygir_gücü)\n",
    "print(araba1.silindir)"
   ]
  },
  {
   "cell_type": "code",
   "execution_count": 5,
   "metadata": {},
   "outputs": [
    {
     "name": "stdout",
     "output_type": "stream",
     "text": [
      "Renault Megane\n",
      "Gümüş\n",
      "110\n",
      "4\n"
     ]
    }
   ],
   "source": [
    "araba2 =  Araba()\n",
    "print(araba2.model)\n",
    "print(araba2.renk)\n",
    "print(araba2.beygir_gücü)\n",
    "print(araba2.silindir)"
   ]
  },
  {
   "cell_type": "code",
   "execution_count": 4,
   "metadata": {},
   "outputs": [
    {
     "name": "stdout",
     "output_type": "stream",
     "text": [
      "['__class__', '__delattr__', '__dict__', '__dir__', '__doc__', '__eq__', '__format__', '__ge__', '__getattribute__', '__gt__', '__hash__', '__init__', '__init_subclass__', '__le__', '__lt__', '__module__', '__ne__', '__new__', '__reduce__', '__reduce_ex__', '__repr__', '__setattr__', '__sizeof__', '__str__', '__subclasshook__', '__weakref__', 'beygir_gücü', 'model', 'renk', 'silindir']\n"
     ]
    }
   ],
   "source": [
    "print(dir(araba1))"
   ]
  },
  {
   "cell_type": "code",
   "execution_count": 6,
   "metadata": {},
   "outputs": [],
   "source": [
    "# Araba Veri tipi \n",
    "\n",
    "class Araba():\n",
    "    # Şimdilik Class özelliklerine ihtiyacımız yok.\n",
    "    \n",
    "    def __init__(self):\n",
    "        print(\"init fonksiyonu çağrıldı.\")"
   ]
  },
  {
   "cell_type": "code",
   "execution_count": 8,
   "metadata": {},
   "outputs": [
    {
     "name": "stdout",
     "output_type": "stream",
     "text": [
      "init fonksiyonu çağrıldı.\n"
     ]
    }
   ],
   "source": [
    "araba1 = Araba() # araba1 objesi oluşurken otomatik olarak __init__ metodumuz çağrılıyor."
   ]
  },
  {
   "cell_type": "code",
   "execution_count": 9,
   "metadata": {},
   "outputs": [],
   "source": [
    "class Araba():\n",
    "    \n",
    "    def __init__(self,model,renk,beygir_gücü,silindir): # Parametrelerimizin değerlerini objelerimizi oluştururken göndereceğiz.\n",
    "        self.model =  model # self.özellik_ismi = parametre değeri şeklinde objemizin model özelliğine değeri atıyoruz.\n",
    "        self.renk = renk # self.özellik_ismi = parametre değeri şeklinde objemizin renk özelliğine değeri atıyoruz.\n",
    "        self.beygir_gücü = beygir_gücü # self.özellik_ismi = parametre değeri şeklinde objemizin beygir_gücü özelliğine değeri atıyoruz.\n",
    "        self.silindir = silindir # self.özellik_ismi = parametre değeri şeklinde objemizin silndir özelliğine değeri atıyoruz."
   ]
  },
  {
   "cell_type": "code",
   "execution_count": 10,
   "metadata": {},
   "outputs": [
    {
     "name": "stdout",
     "output_type": "stream",
     "text": [
      "Peugeot 301\n",
      "Beyaz\n",
      "90\n",
      "4\n"
     ]
    }
   ],
   "source": [
    "# araba1 objesini oluşturalım.\n",
    "# Artık değerlerimizi göndererek objelerimizin özelliklerini istediğimiz değerle başlatabiliriz.\n",
    "araba1 = Araba(\"Peugeot 301\",\"Beyaz\",90,4) \n",
    "print(araba1.model)\n",
    "print(araba1.renk)\n",
    "print(araba1.beygir_gücü)\n",
    "print(araba1.silindir)"
   ]
  },
  {
   "cell_type": "code",
   "execution_count": 11,
   "metadata": {},
   "outputs": [
    {
     "name": "stdout",
     "output_type": "stream",
     "text": [
      "Renault Megane\n",
      "Gümüş\n",
      "110\n",
      "4\n"
     ]
    }
   ],
   "source": [
    "# araba2 objesini oluşturalım.\n",
    "araba2 = Araba(\"Renault Megane\",\"Gümüş\",110,4)\n",
    "print(araba2.model)\n",
    "print(araba2.renk)\n",
    "print(araba2.beygir_gücü)\n",
    "print(araba2.silindir)"
   ]
  },
  {
   "cell_type": "code",
   "execution_count": 12,
   "metadata": {},
   "outputs": [],
   "source": [
    "class Araba():       # class constructor default değer atama\n",
    "\n",
    "    def __init__(self,model=\"Bilgi yok\",renk=\"Bilgi yok\",beygir_gucu=70,silindir=4):\n",
    "        print(\"init fonksiyonu çağrıldı.\")\n",
    "\n",
    "        self.model=model\n",
    "        self.renk=renk\n",
    "        self.beygir_gucu=beygir_gucu\n",
    "        self.silindir=silindir"
   ]
  },
  {
   "cell_type": "code",
   "execution_count": 14,
   "metadata": {},
   "outputs": [
    {
     "name": "stdout",
     "output_type": "stream",
     "text": [
      "init fonksiyonu çağrıldı.\n",
      "Bilgi yok\n"
     ]
    }
   ],
   "source": [
    "araba1=Araba(silindir=5)\n",
    "\n",
    "print(araba1.renk)\n",
    "\n",
    "#print(dir(Araba))  #dir ile classın tüm özelliklerini görebiliriz.\n"
   ]
  },
  {
   "cell_type": "code",
   "execution_count": null,
   "metadata": {},
   "outputs": [],
   "source": []
  }
 ],
 "metadata": {
  "kernelspec": {
   "display_name": "Python 3",
   "language": "python",
   "name": "python3"
  },
  "language_info": {
   "codemirror_mode": {
    "name": "ipython",
    "version": 3
   },
   "file_extension": ".py",
   "mimetype": "text/x-python",
   "name": "python",
   "nbconvert_exporter": "python",
   "pygments_lexer": "ipython3",
   "version": "3.7.4"
  }
 },
 "nbformat": 4,
 "nbformat_minor": 2
}
