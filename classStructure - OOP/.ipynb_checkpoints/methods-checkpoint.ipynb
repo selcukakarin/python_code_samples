{
 "cells": [
  {
   "cell_type": "code",
   "execution_count": 1,
   "metadata": {},
   "outputs": [],
   "source": [
    "class Yazılımcı():\n",
    "    \n",
    "    def __init__(self,isim,soyisim,numara,maaş,diller):\n",
    "        self.isim = isim\n",
    "        self.soyisim = soyisim\n",
    "        self.numara = numara    # Yazılımcı objelerinin özellikleri \n",
    "        self.maaş = maaş\n",
    "        self.diller = diller"
   ]
  },
  {
   "cell_type": "code",
   "execution_count": 2,
   "metadata": {},
   "outputs": [
    {
     "name": "stdout",
     "output_type": "stream",
     "text": [
      "['C#', 'C', 'Java']\n",
      "Akarın\n"
     ]
    }
   ],
   "source": [
    "# yazılımcı1 objesi\n",
    "yazılımcı1 =  Yazılımcı(\"Furkan\",\"Sarikaya\",3322,4000,[\"C#\",\"C\",\"Java\"])\n",
    "\n",
    "yazılımcı2 = Yazılımcı(\"Selçuk\",\"Akarın\",23456,3500,[\"C\",\"R\",\"Java\"])\n",
    "\n",
    "print(yazılımcı1.diller)\n",
    "\n",
    "print(yazılımcı2.soyisim)"
   ]
  },
  {
   "cell_type": "code",
   "execution_count": 3,
   "metadata": {},
   "outputs": [],
   "source": [
    "class Yazılımcı():\n",
    "    \n",
    "    def __init__(self,isim,soyisim,numara,maaş,diller):\n",
    "        self.isim = isim\n",
    "        self.soyisim = soyisim\n",
    "        self.numara = numara    # Yazılımcı objelerinin özellikleri \n",
    "        self.maaş = maaş\n",
    "        self.diller = diller\n",
    "    def bilgilerigöster(self):\n",
    "        print(\"\"\"\n",
    "        Çalışan Bilgisi:\n",
    "        \n",
    "        İsim :  {}\n",
    "        \n",
    "        Soyisim : {}\n",
    "        \n",
    "        Şirket Numarası: {}\n",
    "        \n",
    "        Maaş :  {}\n",
    "        \n",
    "        Diller: {}\n",
    "        \"\"\".format(self.isim,self.soyisim,self.numara,self.maaş,self.diller))\n"
   ]
  },
  {
   "cell_type": "code",
   "execution_count": 4,
   "metadata": {},
   "outputs": [
    {
     "name": "stdout",
     "output_type": "stream",
     "text": [
      "\n",
      "        Çalışan Bilgisi:\n",
      "        \n",
      "        İsim :  Mustafa\n",
      "        \n",
      "        Soyisim : Akarın\n",
      "        \n",
      "        Şirket Numarası: 12345\n",
      "        \n",
      "        Maaş :  3000\n",
      "        \n",
      "        Diller: ['Python', 'C', 'Java']\n",
      "        \n"
     ]
    }
   ],
   "source": [
    "yazılımcı1 =  Yazılımcı(\"Mustafa\",\"Akarın\",12345,3000,[\"Python\",\"C\",\"Java\"])  \n",
    "yazılımcı1.bilgilerigöster()"
   ]
  },
  {
   "cell_type": "code",
   "execution_count": 5,
   "metadata": {},
   "outputs": [],
   "source": [
    "class Yazilimci():\n",
    "    def __init__(self,isim,soyisim,numara,maas,diller):\n",
    "        self.isim=isim\n",
    "        self.soyisim=soyisim\n",
    "        self.numara=numara\n",
    "        self.maas=maas\n",
    "        self.diller=diller\n",
    "    def bilgileriGoster(self):\n",
    "        print(\"\"\"\n",
    "        Yazılımcı objesinin özellikleri\n",
    "\n",
    "        İsim : {}\n",
    "\n",
    "        Soyisim : {}\n",
    "\n",
    "        Numara : {}\n",
    "\n",
    "        Maaş : {}\n",
    "\n",
    "        Bilgidiği diller : {}\n",
    "        \n",
    "        \"\"\".format(self.isim,self.soyisim,self.numara,self.maas,self.diller))\n",
    "\n",
    "    def zamYap(self,zamMiktari):\n",
    "        print(\"Zam yapılıyor...\")\n",
    "        self.maas+=zamMiktari\n",
    "\n",
    "    def dilEkle(self,dil):\n",
    "        print(\"Dil ekleniyor..\")\n",
    "        self.diller.append(dil)"
   ]
  },
  {
   "cell_type": "code",
   "execution_count": 7,
   "metadata": {},
   "outputs": [
    {
     "name": "stdout",
     "output_type": "stream",
     "text": [
      "\n",
      "        Yazılımcı objesinin özellikleri\n",
      "\n",
      "        İsim : Selçuk\n",
      "\n",
      "        Soyisim : Akarın\n",
      "\n",
      "        Numara : 1234\n",
      "\n",
      "        Maaş : 3000\n",
      "\n",
      "        Bilgidiği diller : ['Python', 'Java', 'C#']\n",
      "        \n",
      "        \n",
      "None\n"
     ]
    }
   ],
   "source": [
    "yazilimci=Yazilimci(\"Selçuk\",\"Akarın\",1234,3000,[\"Python\",\"Java\",\"C#\"])\n",
    "print(yazilimci.bilgileriGoster())"
   ]
  },
  {
   "cell_type": "code",
   "execution_count": 8,
   "metadata": {},
   "outputs": [
    {
     "name": "stdout",
     "output_type": "stream",
     "text": [
      "Dil ekleniyor..\n",
      "\n",
      "        Yazılımcı objesinin özellikleri\n",
      "\n",
      "        İsim : Selçuk\n",
      "\n",
      "        Soyisim : Akarın\n",
      "\n",
      "        Numara : 1234\n",
      "\n",
      "        Maaş : 3000\n",
      "\n",
      "        Bilgidiği diller : ['Python', 'Java', 'C#', 'C++']\n",
      "        \n",
      "        \n",
      "None\n"
     ]
    }
   ],
   "source": [
    "yazilimci.dilEkle(\"C++\")\n",
    "print(yazilimci.bilgileriGoster())"
   ]
  },
  {
   "cell_type": "code",
   "execution_count": 9,
   "metadata": {},
   "outputs": [
    {
     "name": "stdout",
     "output_type": "stream",
     "text": [
      "Zam yapılıyor...\n",
      "\n",
      "        Yazılımcı objesinin özellikleri\n",
      "\n",
      "        İsim : Selçuk\n",
      "\n",
      "        Soyisim : Akarın\n",
      "\n",
      "        Numara : 1234\n",
      "\n",
      "        Maaş : 4100\n",
      "\n",
      "        Bilgidiği diller : ['Python', 'Java', 'C#', 'C++']\n",
      "        \n",
      "        \n",
      "None\n"
     ]
    }
   ],
   "source": [
    "yazilimci.zamYap(1100)\n",
    "print(yazilimci.bilgileriGoster())"
   ]
  },
  {
   "cell_type": "code",
   "execution_count": null,
   "metadata": {},
   "outputs": [],
   "source": []
  }
 ],
 "metadata": {
  "kernelspec": {
   "display_name": "Python 3",
   "language": "python",
   "name": "python3"
  },
  "language_info": {
   "codemirror_mode": {
    "name": "ipython",
    "version": 3
   },
   "file_extension": ".py",
   "mimetype": "text/x-python",
   "name": "python",
   "nbconvert_exporter": "python",
   "pygments_lexer": "ipython3",
   "version": "3.7.4"
  }
 },
 "nbformat": 4,
 "nbformat_minor": 2
}
