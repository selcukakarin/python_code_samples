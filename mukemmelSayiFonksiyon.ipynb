{
 "cells": [
  {
   "cell_type": "code",
   "execution_count": 1,
   "metadata": {},
   "outputs": [
    {
     "name": "stdout",
     "output_type": "stream",
     "text": [
      "6  mükemmel sayıdır.\n",
      "28  mükemmel sayıdır.\n",
      "496  mükemmel sayıdır.\n"
     ]
    }
   ],
   "source": [
    "def mukemmelBul(sayi):\n",
    "    toplam=0\n",
    "    for i in range(1,sayi):\n",
    "        if(sayi%i==0):\n",
    "            toplam+=i\n",
    "    if(toplam==sayi):\n",
    "        return True\n",
    "    else:\n",
    "        return False\n",
    "\n",
    "for i in range(1,1001):\n",
    "    if(mukemmelBul(i)):\n",
    "        print(i,\" mükemmel sayıdır.\")\n"
   ]
  },
  {
   "cell_type": "code",
   "execution_count": null,
   "metadata": {},
   "outputs": [],
   "source": []
  }
 ],
 "metadata": {
  "kernelspec": {
   "display_name": "Python 3",
   "language": "python",
   "name": "python3"
  },
  "language_info": {
   "codemirror_mode": {
    "name": "ipython",
    "version": 3
   },
   "file_extension": ".py",
   "mimetype": "text/x-python",
   "name": "python",
   "nbconvert_exporter": "python",
   "pygments_lexer": "ipython3",
   "version": "3.7.4"
  }
 },
 "nbformat": 4,
 "nbformat_minor": 2
}
