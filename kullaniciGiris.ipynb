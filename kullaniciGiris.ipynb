{
 "cells": [
  {
   "cell_type": "code",
   "execution_count": 1,
   "metadata": {},
   "outputs": [
    {
     "name": "stdout",
     "output_type": "stream",
     "text": [
      "\n",
      "***********************\n",
      "Kullanıcı Girişi Programı\n",
      "***********************\n",
      "\n",
      "Kullanıcı Adı : seaad\n",
      "Parola :  123\n",
      "Kullanıcı adı ve Parola yanlış\n",
      "Kullanıcı Adı : Selçuk\n",
      "Parola :  21321\n",
      "Parola yanlış\n",
      "Kullanıcı Adı : Selçsadas\n",
      "Parola :  12345\n",
      "Kullanıcı adı yanlış\n",
      "giriş hakkınızı bitti\n"
     ]
    }
   ],
   "source": [
    "print(\"\"\"\n",
    "***********************\n",
    "Kullanıcı Girişi Programı\n",
    "***********************\n",
    "\"\"\")\n",
    "\n",
    "sysKullaniciAdi=\"Selçuk\"\n",
    "\n",
    "sysParola=\"12345\"\n",
    "\n",
    "girisHakki=3\n",
    "\n",
    "while True:\n",
    "    kullanicAdi=input(\"Kullanıcı Adı : \")\n",
    "    parola=input(\"Parola :  \")\n",
    "    if(kullanicAdi!=sysKullaniciAdi and parola==sysParola):\n",
    "        print(\"Kullanıcı adı yanlış\")\n",
    "        girisHakki-=1\n",
    "    elif(kullanicAdi==sysKullaniciAdi and parola!=sysParola):\n",
    "        print(\"Parola yanlış\")\n",
    "        girisHakki-=1\n",
    "    elif (kullanicAdi != sysKullaniciAdi and parola != sysParola):\n",
    "        print(\"Kullanıcı adı ve Parola yanlış\")\n",
    "        girisHakki -= 1\n",
    "    else:\n",
    "        print(\"sisteme hg\")\n",
    "        break\n",
    "    if(girisHakki==0):\n",
    "        print(\"giriş hakkınızı bitti\")\n",
    "        break"
   ]
  },
  {
   "cell_type": "code",
   "execution_count": null,
   "metadata": {},
   "outputs": [],
   "source": []
  }
 ],
 "metadata": {
  "kernelspec": {
   "display_name": "Python 3",
   "language": "python",
   "name": "python3"
  },
  "language_info": {
   "codemirror_mode": {
    "name": "ipython",
    "version": 3
   },
   "file_extension": ".py",
   "mimetype": "text/x-python",
   "name": "python",
   "nbconvert_exporter": "python",
   "pygments_lexer": "ipython3",
   "version": "3.7.4"
  }
 },
 "nbformat": 4,
 "nbformat_minor": 2
}
