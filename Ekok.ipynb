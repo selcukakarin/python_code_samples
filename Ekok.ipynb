{
 "cells": [
  {
   "cell_type": "code",
   "execution_count": 1,
   "metadata": {},
   "outputs": [],
   "source": [
    "def ekok(sayi1,sayi2):\n",
    "    ekok=1\n",
    "    k=0\n",
    "    liste1=[2,3,5,7,11,13]\n",
    "    liste2=[0,0,0,0,0,0]\n",
    "    if(sayi1==sayi2):\n",
    "        return sayi1\n",
    "    else:\n",
    "        for i in liste1:\n",
    "            while sayi1%i==0 or sayi2%i== 0:\n",
    "                if(sayi1%i==0):\n",
    "                    sayi1//=i\n",
    "                if(sayi2%i==0):\n",
    "                    sayi2//=i\n",
    "                liste2[k]+=1\n",
    "            k+=1\n",
    "    for i in range(0,len(liste1)):\n",
    "        if(liste2[i]!=0):\n",
    "            ekok*=liste1[i]**liste2[i]\n",
    "    return ekok"
   ]
  },
  {
   "cell_type": "code",
   "execution_count": 2,
   "metadata": {},
   "outputs": [
    {
     "name": "stdout",
     "output_type": "stream",
     "text": [
      "sayı gir 33\n",
      "sayı gir 11\n",
      "33\n"
     ]
    }
   ],
   "source": [
    "x=int(input(\"sayı gir \"))\n",
    "y=int(input(\"sayı gir \"))\n",
    "print(ekok(x,y))\n"
   ]
  },
  {
   "cell_type": "code",
   "execution_count": null,
   "metadata": {},
   "outputs": [],
   "source": []
  }
 ],
 "metadata": {
  "kernelspec": {
   "display_name": "Python 3",
   "language": "python",
   "name": "python3"
  },
  "language_info": {
   "codemirror_mode": {
    "name": "ipython",
    "version": 3
   },
   "file_extension": ".py",
   "mimetype": "text/x-python",
   "name": "python",
   "nbconvert_exporter": "python",
   "pygments_lexer": "ipython3",
   "version": "3.7.4"
  }
 },
 "nbformat": 4,
 "nbformat_minor": 2
}
