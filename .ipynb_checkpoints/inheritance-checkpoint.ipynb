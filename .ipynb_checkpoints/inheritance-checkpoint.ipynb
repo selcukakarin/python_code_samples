{
 "cells": [
  {
   "cell_type": "code",
   "execution_count": 1,
   "metadata": {},
   "outputs": [],
   "source": [
    "class Calisan:\n",
    "    def __init__(self,isim,maas,departman):\n",
    "        print(\"calisan sinifinin init fonksiyonu\")\n",
    "        self.isim=isim\n",
    "        self.maas=maas\n",
    "        self.departman=departman\n",
    "    def bilgileriGoster(self):\n",
    "        print(\"calisan sinifinin bilgileri\")\n",
    "        print(\"İsim: {}\\nMaas: {}\\nDepartman: {}\".format(self.isim,self.maas,self.departman))\n",
    "    def departmaniDegistir(self,yeniDepartman):\n",
    "        self.departman=yeniDepartman\n"
   ]
  },
  {
   "cell_type": "code",
   "execution_count": 2,
   "metadata": {},
   "outputs": [],
   "source": [
    "class Yonetici(Calisan):\n",
    "    def __init__(self,isim,maas,departman,kisiSayisi=3):\n",
    "        super().__init__(isim,maas,departman)\n",
    "        print(\"Yonetici fonksiyonunun init fonksiyonu\")\n",
    "\n",
    "        self.kisiSayisi=kisiSayisi\n",
    "    def zamYap(self,zamMiktari):\n",
    "        self.maas+=zamMiktari\n",
    "    def bilgileriGoster(self):\n",
    "        print(\"Yonetici sinifinin bilgileri\")\n",
    "        print(\"İsim: {}\\nMaas: {}\\nDepartman: {}\\nKisi: {}\".format(self.isim,self.maas,self.departman,self.kisiSayisi))\n"
   ]
  },
  {
   "cell_type": "code",
   "execution_count": 3,
   "metadata": {},
   "outputs": [
    {
     "name": "stdout",
     "output_type": "stream",
     "text": [
      "calisan sinifinin init fonksiyonu\n",
      "Yonetici fonksiyonunun init fonksiyonu\n",
      "Yonetici sinifinin bilgileri\n",
      "İsim: Selçuk\n",
      "Maas: 5000\n",
      "Departman: Bilişim\n",
      "Kisi: 3\n"
     ]
    }
   ],
   "source": [
    "yonetici=Yonetici(\"Selçuk\",5000,\"Bilişim\")\n",
    "yonetici.bilgileriGoster()"
   ]
  },
  {
   "cell_type": "code",
   "execution_count": 4,
   "metadata": {},
   "outputs": [
    {
     "name": "stdout",
     "output_type": "stream",
     "text": [
      "Yonetici sinifinin bilgileri\n",
      "İsim: Selçuk\n",
      "Maas: 5350\n",
      "Departman: Bilişim\n",
      "Kisi: 3\n"
     ]
    }
   ],
   "source": [
    "yonetici.zamYap(350)\n",
    "yonetici.bilgileriGoster()"
   ]
  },
  {
   "cell_type": "code",
   "execution_count": null,
   "metadata": {},
   "outputs": [],
   "source": []
  }
 ],
 "metadata": {
  "kernelspec": {
   "display_name": "Python 3",
   "language": "python",
   "name": "python3"
  },
  "language_info": {
   "codemirror_mode": {
    "name": "ipython",
    "version": 3
   },
   "file_extension": ".py",
   "mimetype": "text/x-python",
   "name": "python",
   "nbconvert_exporter": "python",
   "pygments_lexer": "ipython3",
   "version": "3.7.4"
  }
 },
 "nbformat": 4,
 "nbformat_minor": 2
}
