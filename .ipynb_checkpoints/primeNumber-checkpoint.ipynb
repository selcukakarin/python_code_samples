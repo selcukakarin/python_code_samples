{
 "cells": [
  {
   "cell_type": "code",
   "execution_count": 1,
   "metadata": {},
   "outputs": [],
   "source": [
    "def asalMi(sayi):\n",
    "    if(sayi==1):\n",
    "        return False\n",
    "    \n",
    "    elif (sayi==2):\n",
    "        return True\n",
    "    \n",
    "    else:\n",
    "        for i in range(2,sayi):\n",
    "            if(sayi%i==0):\n",
    "                return False\n",
    "        return True"
   ]
  },
  {
   "cell_type": "code",
   "execution_count": null,
   "metadata": {},
   "outputs": [
    {
     "name": "stdout",
     "output_type": "stream",
     "text": [
      "Sayi : 2\n",
      "2  asal bir sayıdır\n",
      "Sayi : 3\n",
      "3  asal bir sayıdır\n",
      "Sayi : 4\n",
      "4  asal değildir.\n",
      "Sayi : 5\n",
      "5  asal bir sayıdır\n"
     ]
    }
   ],
   "source": [
    "while(True):\n",
    "    sayi=input(\"Sayi : \")\n",
    "    \n",
    "    if(sayi==\"q\"):\n",
    "        break\n",
    "    else:\n",
    "        sayi=int(sayi)\n",
    "        \n",
    "        if(asalMi(sayi)):\n",
    "            print(sayi,\" asal bir sayıdır\")\n",
    "        else:\n",
    "            print(sayi,\" asal değildir.\")"
   ]
  },
  {
   "cell_type": "code",
   "execution_count": null,
   "metadata": {},
   "outputs": [],
   "source": []
  }
 ],
 "metadata": {
  "kernelspec": {
   "display_name": "Python 3",
   "language": "python",
   "name": "python3"
  },
  "language_info": {
   "codemirror_mode": {
    "name": "ipython",
    "version": 3
   },
   "file_extension": ".py",
   "mimetype": "text/x-python",
   "name": "python",
   "nbconvert_exporter": "python",
   "pygments_lexer": "ipython3",
   "version": "3.7.4"
  }
 },
 "nbformat": 4,
 "nbformat_minor": 2
}
