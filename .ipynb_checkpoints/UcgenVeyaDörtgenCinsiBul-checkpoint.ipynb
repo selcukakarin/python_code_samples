{
 "cells": [
  {
   "cell_type": "code",
   "execution_count": 1,
   "metadata": {},
   "outputs": [
    {
     "name": "stdout",
     "output_type": "stream",
     "text": [
      "Üçgen mi bulmak istiyon kare mi? (üçgen=1,kare=21\n",
      "1. kenar 5\n",
      "2. kenar 12\n",
      "3. kenar 13\n",
      "sıradan üçgen\n"
     ]
    }
   ],
   "source": [
    "\n",
    "choice=int(input(\"Üçgen mi bulmak istiyon kare mi? (üçgen=1,kare=2\"))\n",
    "\n",
    "if(choice==1):\n",
    "    a=int(input(\"1. kenar \"))\n",
    "    b = int(input(\"2. kenar \"))\n",
    "    c = int(input(\"3. kenar \"))\n",
    "    if(a+b<c or a+c<b or b+c<a):\n",
    "        print(\"böyle bir üçgen tanımlanamaz\")\n",
    "    else:\n",
    "        if(a==b or a==c or b==c):\n",
    "            print(\"ikiz kenar üçgen \")\n",
    "        elif(a==b and a==c):\n",
    "            print(\"eşkenar üçgen\")\n",
    "        else:\n",
    "            print(\"sıradan üçgen\")\n",
    "elif(choice==2):\n",
    "    a = int(input(\"1. kenar \"))\n",
    "    b = int(input(\"2. kenar \"))\n",
    "    c = int(input(\"3. kenar \"))\n",
    "    d=int(input(\"4. kenar \"))\n",
    "    if(a==b==c==d):\n",
    "        print(\"karedir\")\n",
    "    elif((a==b and c==d)or(a==c or b==d)or(a==d or b==c)):\n",
    "        print(\"dikdörtgendir\")\n",
    "    else:\n",
    "        print(\"normal bir dörtgendir.\")"
   ]
  },
  {
   "cell_type": "code",
   "execution_count": null,
   "metadata": {},
   "outputs": [],
   "source": []
  }
 ],
 "metadata": {
  "kernelspec": {
   "display_name": "Python 3",
   "language": "python",
   "name": "python3"
  },
  "language_info": {
   "codemirror_mode": {
    "name": "ipython",
    "version": 3
   },
   "file_extension": ".py",
   "mimetype": "text/x-python",
   "name": "python",
   "nbconvert_exporter": "python",
   "pygments_lexer": "ipython3",
   "version": "3.7.4"
  }
 },
 "nbformat": 4,
 "nbformat_minor": 2
}
