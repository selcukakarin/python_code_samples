{
 "cells": [
  {
   "cell_type": "code",
   "execution_count": 1,
   "metadata": {},
   "outputs": [
    {
     "name": "stdout",
     "output_type": "stream",
     "text": [
      "a : 1\n",
      "b : 2\n",
      "değişmeden önceki a:1, b:2\n",
      "değiştikten sonra a:2,b:1\n"
     ]
    }
   ],
   "source": [
    "a=input(\"a : \")\n",
    "b=input(\"b : \")\n",
    "print(\"değişmeden önceki a:{}, b:{}\".format(a,b))\n",
    "\n",
    "a,b=b,a\n",
    "\n",
    "print(\"değiştikten sonra a:{},b:{}\".format(a,b))"
   ]
  },
  {
   "cell_type": "code",
   "execution_count": null,
   "metadata": {},
   "outputs": [],
   "source": []
  }
 ],
 "metadata": {
  "kernelspec": {
   "display_name": "Python 3",
   "language": "python",
   "name": "python3"
  },
  "language_info": {
   "codemirror_mode": {
    "name": "ipython",
    "version": 3
   },
   "file_extension": ".py",
   "mimetype": "text/x-python",
   "name": "python",
   "nbconvert_exporter": "python",
   "pygments_lexer": "ipython3",
   "version": "3.7.4"
  }
 },
 "nbformat": 4,
 "nbformat_minor": 2
}
