{
 "cells": [
  {
   "cell_type": "code",
   "execution_count": 1,
   "metadata": {},
   "outputs": [
    {
     "name": "stdout",
     "output_type": "stream",
     "text": [
      "*************************\n",
      "Hesap Makinesi Programı\n",
      "\n",
      "İşlemler;\n",
      "\n",
      "1. Toplama\n",
      "2. Çıkarma\n",
      "3. Çarpma\n",
      "4. Bölme\n",
      "*************************\n",
      "\n",
      "Birinci sayı : 22\n",
      "ikinci sayı : 33\n",
      "işlemi giriniz1\n",
      "22 ile 33 toplamı 55'dir\n"
     ]
    }
   ],
   "source": [
    "print(\"\"\"*************************\n",
    "Hesap Makinesi Programı\n",
    "\n",
    "İşlemler;\n",
    "\n",
    "1. Toplama\n",
    "2. Çıkarma\n",
    "3. Çarpma\n",
    "4. Bölme\n",
    "*************************\n",
    "\"\"\")\n",
    "\n",
    "a=int(input(\"Birinci sayı : \"))\n",
    "b=int(input(\"ikinci sayı : \"))\n",
    "\n",
    "işlem=(int(input(\"işlemi giriniz\")))\n",
    "\n",
    "if işlem==1:\n",
    "    print(\"{} ile {} toplamı {}'dir\".format(a,b,a+b))\n",
    "elif işlem==2:\n",
    "    print(\"{} ile {} farkı {}'dir\".format(a,b,a-b))\n",
    "elif işlem==3:\n",
    "    print(\"{} ile {} çarpımı {}'dir\".format(a,b,a*b))\n",
    "elif işlem==4:\n",
    "    print(\"{} ile {} bölümü {}'dir\".format(a,b,a/b))\n",
    "else:\n",
    "    print(\"Geçersiz işlem\")\n"
   ]
  },
  {
   "cell_type": "code",
   "execution_count": null,
   "metadata": {},
   "outputs": [],
   "source": []
  }
 ],
 "metadata": {
  "kernelspec": {
   "display_name": "Python 3",
   "language": "python",
   "name": "python3"
  },
  "language_info": {
   "codemirror_mode": {
    "name": "ipython",
    "version": 3
   },
   "file_extension": ".py",
   "mimetype": "text/x-python",
   "name": "python",
   "nbconvert_exporter": "python",
   "pygments_lexer": "ipython3",
   "version": "3.7.4"
  }
 },
 "nbformat": 4,
 "nbformat_minor": 2
}
