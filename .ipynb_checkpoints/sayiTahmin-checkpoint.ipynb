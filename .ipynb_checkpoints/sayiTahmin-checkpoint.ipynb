{
 "cells": [
  {
   "cell_type": "code",
   "execution_count": 1,
   "metadata": {},
   "outputs": [
    {
     "name": "stdout",
     "output_type": "stream",
     "text": [
      "**********************************\n",
      "\n",
      "Sayi Tahmin Oyunu\n",
      "\n",
      "1 ile 40 arasında sayı tahmin et\n",
      "\n",
      "**********************************\n",
      "\n",
      "Tahmininiz: 2\n",
      "Bilgiler sorgulanıyor...\n",
      "Daha yüksek bir sayı söyleyin...\n",
      "Tahmininiz: 20\n",
      "Bilgiler sorgulanıyor...\n",
      "Daha düşük bir sayı söyleyin...\n",
      "Tahmininiz: 15\n",
      "Bilgiler sorgulanıyor...\n",
      "Daha yüksek bir sayı söyleyin...\n",
      "Tahmininiz: 17\n",
      "Bilgiler sorgulanıyor...\n",
      "Daha yüksek bir sayı söyleyin...\n",
      "Tahmininiz: 18\n",
      "Bilgiler sorgulanıyor...\n",
      "Daha yüksek bir sayı söyleyin...\n",
      "Tahmininiz: 19\n",
      "Bilgiler sorgulanıyor\n",
      "Tebikler doğru yanıt :  19\n"
     ]
    }
   ],
   "source": [
    "import random\n",
    "import time\n",
    "\n",
    "print(\"\"\"**********************************\n",
    "\n",
    "Sayi Tahmin Oyunu\n",
    "\n",
    "1 ile 40 arasında sayı tahmin et\n",
    "\n",
    "**********************************\n",
    "\"\"\")\n",
    "\n",
    "rastgeleSayi=random.randint(1,40)\n",
    "tahminHakki=7\n",
    "while True:\n",
    "    tahmin=int(input(\"Tahmininiz: \"))\n",
    "\n",
    "    if(tahmin<rastgeleSayi):\n",
    "        print(\"Bilgiler sorgulanıyor...\")\n",
    "        time.sleep(1)\n",
    "        print(\"Daha yüksek bir sayı söyleyin...\")\n",
    "        tahminHakki-=1\n",
    "    elif(tahmin>rastgeleSayi):\n",
    "        print(\"Bilgiler sorgulanıyor...\")\n",
    "        time.sleep(1)\n",
    "        print(\"Daha düşük bir sayı söyleyin...\")\n",
    "        tahminHakki-=1\n",
    "    else:\n",
    "        print(\"Bilgiler sorgulanıyor\")\n",
    "        time.sleep(1)\n",
    "        print(\"Tebikler doğru yanıt : \",rastgeleSayi)\n",
    "        break"
   ]
  },
  {
   "cell_type": "code",
   "execution_count": null,
   "metadata": {},
   "outputs": [],
   "source": []
  }
 ],
 "metadata": {
  "kernelspec": {
   "display_name": "Python 3",
   "language": "python",
   "name": "python3"
  },
  "language_info": {
   "codemirror_mode": {
    "name": "ipython",
    "version": 3
   },
   "file_extension": ".py",
   "mimetype": "text/x-python",
   "name": "python",
   "nbconvert_exporter": "python",
   "pygments_lexer": "ipython3",
   "version": "3.7.4"
  }
 },
 "nbformat": 4,
 "nbformat_minor": 2
}
