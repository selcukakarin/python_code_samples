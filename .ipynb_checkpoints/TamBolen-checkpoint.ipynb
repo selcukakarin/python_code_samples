{
 "cells": [
  {
   "cell_type": "code",
   "execution_count": 1,
   "metadata": {},
   "outputs": [],
   "source": [
    "def tamBolen(sayi):\n",
    "    tamBolenler=[]\n",
    "\n",
    "    for i in range(2,sayi):\n",
    "        if(sayi%i==0):\n",
    "            tamBolenler.append(i)\n",
    "    return tamBolenler"
   ]
  },
  {
   "cell_type": "code",
   "execution_count": null,
   "metadata": {},
   "outputs": [
    {
     "name": "stdout",
     "output_type": "stream",
     "text": [
      "sayı gir2\n",
      "[]\n",
      "sayı gir4\n",
      "[2]\n",
      "sayı gir5\n",
      "[]\n",
      "sayı gir6\n",
      "[2, 3]\n",
      "sayı gir12\n",
      "[2, 3, 4, 6]\n"
     ]
    }
   ],
   "source": [
    "while True:\n",
    "    sayi=input(\"sayı gir\")\n",
    "\n",
    "    if(sayi==\"q\"):\n",
    "        print(\"Programdan çıkılıyor\")\n",
    "        break\n",
    "    else:\n",
    "        sayi=int(sayi)\n",
    "        print(tamBolen(sayi))"
   ]
  },
  {
   "cell_type": "code",
   "execution_count": null,
   "metadata": {},
   "outputs": [],
   "source": []
  }
 ],
 "metadata": {
  "kernelspec": {
   "display_name": "Python 3",
   "language": "python",
   "name": "python3"
  },
  "language_info": {
   "codemirror_mode": {
    "name": "ipython",
    "version": 3
   },
   "file_extension": ".py",
   "mimetype": "text/x-python",
   "name": "python",
   "nbconvert_exporter": "python",
   "pygments_lexer": "ipython3",
   "version": "3.7.4"
  }
 },
 "nbformat": 4,
 "nbformat_minor": 2
}
