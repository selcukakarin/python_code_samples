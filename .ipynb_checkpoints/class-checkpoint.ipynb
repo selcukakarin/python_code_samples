{
 "cells": [
  {
   "cell_type": "code",
   "execution_count": 1,
   "metadata": {},
   "outputs": [],
   "source": [
    "class Yazılımcı:\n",
    "    def __init__(self,isim,soyisim,numara,maas,diller):\n",
    "        self.isim=isim\n",
    "        self.soyisim=soyisim\n",
    "        self.numara=numara\n",
    "        self.maas=maas\n",
    "        self.diller=diller\n",
    "    def bilgileriGoster(self):\n",
    "        print(\"\"\"\n",
    "        \n",
    "        Yazılımcı objesinin özellikleri\n",
    "\n",
    "        İsim: {}\n",
    "\n",
    "        Soyisim: {}\n",
    "\n",
    "        Numara: {}\n",
    "\n",
    "        Maaş: {}\n",
    "\n",
    "        Bildiği Diller: {}\n",
    "\n",
    "        \"\"\".format(self.isim,self.soyisim,self.numara,self.maas,self.diller))\n",
    "    def zamYap(self,zamMiktarı):\n",
    "        print(\"Zam Yapılıyor...\")\n",
    "\n",
    "        self.maas+=zamMiktarı\n",
    "    def dilEkle(self,yeniDil):\n",
    "        print(\"Dil ekleniyor...\")\n",
    "        self.diller.append(yeniDil)"
   ]
  },
  {
   "cell_type": "code",
   "execution_count": 2,
   "metadata": {},
   "outputs": [
    {
     "name": "stdout",
     "output_type": "stream",
     "text": [
      "\n",
      "        \n",
      "        Yazılımcı objesinin özellikleri\n",
      "\n",
      "        İsim: Selçuk\n",
      "\n",
      "        Soyisim: Akarın\n",
      "\n",
      "        Numara: 10\n",
      "\n",
      "        Maaş: 3000\n",
      "\n",
      "        Bildiği Diller: ['Python', 'Java', 'C']\n",
      "\n",
      "        \n"
     ]
    }
   ],
   "source": [
    "yazılımcı= Yazılımcı(\"Selçuk\",\"Akarın\",10,3000,[\"Python\",\"Java\",\"C\"])\n",
    "yazılımcı.bilgileriGoster()"
   ]
  },
  {
   "cell_type": "code",
   "execution_count": 3,
   "metadata": {},
   "outputs": [
    {
     "name": "stdout",
     "output_type": "stream",
     "text": [
      "Dil ekleniyor...\n",
      "\n",
      "        \n",
      "        Yazılımcı objesinin özellikleri\n",
      "\n",
      "        İsim: Selçuk\n",
      "\n",
      "        Soyisim: Akarın\n",
      "\n",
      "        Numara: 10\n",
      "\n",
      "        Maaş: 3000\n",
      "\n",
      "        Bildiği Diller: ['Python', 'Java', 'C', 'GoLang']\n",
      "\n",
      "        \n"
     ]
    }
   ],
   "source": [
    "yazılımcı.dilEkle(\"GoLang\")\n",
    "yazılımcı.bilgileriGoster()\n"
   ]
  },
  {
   "cell_type": "code",
   "execution_count": 4,
   "metadata": {},
   "outputs": [
    {
     "name": "stdout",
     "output_type": "stream",
     "text": [
      "Zam Yapılıyor...\n",
      "\n",
      "        \n",
      "        Yazılımcı objesinin özellikleri\n",
      "\n",
      "        İsim: Selçuk\n",
      "\n",
      "        Soyisim: Akarın\n",
      "\n",
      "        Numara: 10\n",
      "\n",
      "        Maaş: 3500\n",
      "\n",
      "        Bildiği Diller: ['Python', 'Java', 'C', 'GoLang']\n",
      "\n",
      "        \n"
     ]
    }
   ],
   "source": [
    "yazılımcı.zamYap(500)\n",
    "yazılımcı.bilgileriGoster()\n"
   ]
  },
  {
   "cell_type": "code",
   "execution_count": null,
   "metadata": {},
   "outputs": [],
   "source": []
  }
 ],
 "metadata": {
  "kernelspec": {
   "display_name": "Python 3",
   "language": "python",
   "name": "python3"
  },
  "language_info": {
   "codemirror_mode": {
    "name": "ipython",
    "version": 3
   },
   "file_extension": ".py",
   "mimetype": "text/x-python",
   "name": "python",
   "nbconvert_exporter": "python",
   "pygments_lexer": "ipython3",
   "version": "3.7.4"
  }
 },
 "nbformat": 4,
 "nbformat_minor": 2
}
