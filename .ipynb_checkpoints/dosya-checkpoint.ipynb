{
 "cells": [
  {
   "cell_type": "code",
   "execution_count": 2,
   "metadata": {},
   "outputs": [
    {
     "name": "stdout",
     "output_type": "stream",
     "text": [
      "Furkan Sarıkaya\n",
      "Selçuk akDENEMEelçuk Akarın\n",
      "sadsad\n",
      "DENEME DENEME\n",
      "sadAbdülsamed Yıldırım\n",
      "Furkan Sarıkaya\n",
      "Selçuk akDENEMEelçuk Akarın\n",
      "sadsad\n",
      "DENEME DENEME\n",
      "sadAbdülsamed Yıldırım\n",
      "\n"
     ]
    }
   ],
   "source": [
    "\"\"\" with open(\"bilgiler.txt\",\"r+\",encoding=\"utf-8\") as file:\n",
    "    icerik=file.read()\n",
    "    icerik=\"Deneme Deneme\\n\"+icerik\n",
    "    file.seek(0)\n",
    "    file.write(icerik) \"\"\"\n",
    "\n",
    "with open(\"bilgiler.txt\",\"r+\",encoding=\"utf-8\") as file:\n",
    "    print(file.read())"
   ]
  },
  {
   "cell_type": "code",
   "execution_count": null,
   "metadata": {},
   "outputs": [],
   "source": []
  }
 ],
 "metadata": {
  "kernelspec": {
   "display_name": "Python 3",
   "language": "python",
   "name": "python3"
  },
  "language_info": {
   "codemirror_mode": {
    "name": "ipython",
    "version": 3
   },
   "file_extension": ".py",
   "mimetype": "text/x-python",
   "name": "python",
   "nbconvert_exporter": "python",
   "pygments_lexer": "ipython3",
   "version": "3.7.4"
  }
 },
 "nbformat": 4,
 "nbformat_minor": 2
}
