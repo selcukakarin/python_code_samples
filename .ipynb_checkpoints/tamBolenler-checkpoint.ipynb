{
 "cells": [
  {
   "cell_type": "code",
   "execution_count": null,
   "metadata": {},
   "outputs": [
    {
     "name": "stdout",
     "output_type": "stream",
     "text": [
      "Sayi : 2\n",
      "Tam Bolenler =  [1, 2]\n",
      "Sayi : 5\n",
      "Tam Bolenler =  [1, 5]\n",
      "Sayi : 6\n",
      "Tam Bolenler =  [1, 2, 3, 6]\n"
     ]
    }
   ],
   "source": [
    "def tamBolenleriBul(sayi):\n",
    "    tamBolenler=[]\n",
    "    for i in range(1,sayi+1):\n",
    "        if(sayi%i==0):\n",
    "            tamBolenler.append(i)\n",
    "    return tamBolenler\n",
    "\n",
    "while True:\n",
    "    sayi=input(\"Sayi : \")\n",
    "    if(sayi==\"q\"):\n",
    "        print(\"programdan çıkılıyor...\")\n",
    "        break\n",
    "    else:\n",
    "        sayi=int(sayi)\n",
    "        print(\"Tam Bolenler = \",tamBolenleriBul(sayi))"
   ]
  },
  {
   "cell_type": "code",
   "execution_count": null,
   "metadata": {},
   "outputs": [],
   "source": []
  }
 ],
 "metadata": {
  "kernelspec": {
   "display_name": "Python 3",
   "language": "python",
   "name": "python3"
  },
  "language_info": {
   "codemirror_mode": {
    "name": "ipython",
    "version": 3
   },
   "file_extension": ".py",
   "mimetype": "text/x-python",
   "name": "python",
   "nbconvert_exporter": "python",
   "pygments_lexer": "ipython3",
   "version": "3.7.4"
  }
 },
 "nbformat": 4,
 "nbformat_minor": 2
}
