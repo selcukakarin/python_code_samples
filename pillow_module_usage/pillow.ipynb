{
 "cells": [
  {
   "cell_type": "code",
   "execution_count": 3,
   "metadata": {},
   "outputs": [],
   "source": [
    "# pillow tutorial https://pillow.readthedocs.io/en/4.2.x/handbook/tutorial.html\n",
    "from PIL import Image, ImageFilter\n",
    "image = Image.open(\"hawai.jpg\")\n",
    "#image.show()\n",
    "image.show()\n",
    "\n",
    "image.rotate(180).save(\"hawai3.jpg\")\n",
    "image.show()\n",
    "image.rotate(90).save(\"hawai4.jpg\")\n",
    "image.show()\n",
    "image.convert(mode=\"L\").save(\"hawai5.jpg\")\n",
    "image.show()\n",
    "degistir = (960,600)\n",
    "image.thumbnail(degistir)\n",
    "image.save(\"hawai6.jpg\")\n",
    "image.show()\n",
    "image.filter(ImageFilter.GaussianBlur(5)).save(\"hawai7.jpg\")\n",
    "image.show()\n",
    "kırpılacak_alan = (523,9,548,162)\n",
    "image2=Image.open(\"city.jpg\")\n",
    "image2.show()\n",
    "image2.crop(kırpılacak_alan).save(\"building.jpg\")\n",
    "image2.show()"
   ]
  },
  {
   "cell_type": "code",
   "execution_count": 4,
   "metadata": {},
   "outputs": [],
   "source": [
    "image.save(\"hawai2.jpg\")\n",
    "image.show()"
   ]
  },
  {
   "cell_type": "code",
   "execution_count": null,
   "metadata": {},
   "outputs": [],
   "source": []
  }
 ],
 "metadata": {
  "kernelspec": {
   "display_name": "Python 3",
   "language": "python",
   "name": "python3"
  },
  "language_info": {
   "codemirror_mode": {
    "name": "ipython",
    "version": 3
   },
   "file_extension": ".py",
   "mimetype": "text/x-python",
   "name": "python",
   "nbconvert_exporter": "python",
   "pygments_lexer": "ipython3",
   "version": "3.7.8"
  }
 },
 "nbformat": 4,
 "nbformat_minor": 4
}
