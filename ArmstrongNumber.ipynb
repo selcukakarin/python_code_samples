{
 "cells": [
  {
   "cell_type": "code",
   "execution_count": 2,
   "metadata": {},
   "outputs": [
    {
     "name": "stdout",
     "output_type": "stream",
     "text": [
      "sayı gir : 6\n",
      "bu sayı armstrong\n"
     ]
    }
   ],
   "source": [
    "sayi=input(\"sayı gir : \")\n",
    "toplam=0\n",
    "basamak=len(sayi)\n",
    "sayi=int(sayi)\n",
    "tempsayi=sayi\n",
    "\n",
    "while(tempsayi>0):\n",
    "    toplam+=((tempsayi%10)**basamak)\n",
    "    tempsayi//=10\n",
    "if(toplam==sayi):\n",
    "    print(\"bu sayı armstrong\")\n",
    "else:\n",
    "    print(\"bu sayı armstrong değil\")"
   ]
  },
  {
   "cell_type": "code",
   "execution_count": null,
   "metadata": {},
   "outputs": [],
   "source": []
  }
 ],
 "metadata": {
  "kernelspec": {
   "display_name": "Python 3",
   "language": "python",
   "name": "python3"
  },
  "language_info": {
   "codemirror_mode": {
    "name": "ipython",
    "version": 3
   },
   "file_extension": ".py",
   "mimetype": "text/x-python",
   "name": "python",
   "nbconvert_exporter": "python",
   "pygments_lexer": "ipython3",
   "version": "3.7.4"
  }
 },
 "nbformat": 4,
 "nbformat_minor": 2
}
